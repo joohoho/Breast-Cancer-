{
 "cells": [
  {
   "cell_type": "code",
   "execution_count": 1,
   "id": "1bbefd8f-8e0d-430c-8206-1c982add8dfd",
   "metadata": {
    "tags": []
   },
   "outputs": [],
   "source": [
    "%matplotlib inline"
   ]
  },
  {
   "cell_type": "code",
   "execution_count": 2,
   "id": "58bd4f05-5096-4f7d-902c-16e63867c9b1",
   "metadata": {
    "tags": []
   },
   "outputs": [],
   "source": [
    "# imports\n",
    "\n",
    "import numpy as np\n",
    "import pandas as pd\n",
    "import matplotlib.pyplot as plt\n",
    "\n",
    "from sklearn.decomposition import PCA"
   ]
  },
  {
   "cell_type": "markdown",
   "id": "d0757853-2524-4d4a-8d79-86d7d79a9c6b",
   "metadata": {},
   "source": [
    "# Breast Cancer"
   ]
  },
  {
   "cell_type": "markdown",
   "id": "cc0032ff-6286-4529-b040-cb54b4c256db",
   "metadata": {
    "tags": []
   },
   "source": [
    "## EDA and Dimensionality Reduction"
   ]
  },
  {
   "cell_type": "markdown",
   "id": "3e3b869e-e72d-4517-9ecf-c13cbeda8b27",
   "metadata": {},
   "source": [
    "### Problem to solve"
   ]
  },
  {
   "cell_type": "markdown",
   "id": "8b71dc04-012c-4e42-89fa-5af1bdfe2658",
   "metadata": {},
   "source": [
    "There are more than 2.3 million cases of breast cancer that occur each year, which make it the most common cancer among adults. In 95% of countries, breast cancer is the first or second leading cause of female cancer deaths. Breast Cancer occurs as a results of abnormal growth of cells in the breast tissue, commonly referred to as a Tumor. A tumor does not mean cancer - tumors can be benign (not cancerous), pre-malignant (pre-cancerous), or malignant (cancerous). Tests such as MRI, mammogram, ultrasound and biopsy are commonly used to diagnose breast cancer performed."
   ]
  },
  {
   "cell_type": "markdown",
   "id": "e976e28f-0f82-4ea5-8b00-5ee3e8e94fb1",
   "metadata": {},
   "source": [
    "However, this is curable if detected in an early-stage as a non-metastatic disease thus underlying the importance of early detection and need to conduct research in these lines."
   ]
  },
  {
   "cell_type": "markdown",
   "id": "7820fff6-05d4-4a86-a06d-5fdc6ea578df",
   "metadata": {},
   "source": [
    "### Data Sources"
   ]
  },
  {
   "cell_type": "markdown",
   "id": "5036f61f-851a-44a6-a011-a4ec184e8812",
   "metadata": {},
   "source": [
    "We get two datasets - one from Eurostat with annual data about breast cancer cases in EU countries. Second dataset is from UCI and is well known for the many features related to the breast cancer cells parameters. The datasets differ in the data they preserve. They are valuable in different ways, but unfortunately I can't make something third out of them. They are not compatible to be mixed, merged or looked at together. So let's explore the datasets one by one."
   ]
  },
  {
   "cell_type": "markdown",
   "id": "505b3e49-b60b-4d2a-9c0c-2310c85f4ca4",
   "metadata": {
    "tags": []
   },
   "source": [
    "### Eurostat Data"
   ]
  },
  {
   "cell_type": "markdown",
   "id": "309f9dfd-653a-4891-bfbd-9ec05a600ed8",
   "metadata": {},
   "source": [
    "The table is public, available on the [eurostat website](https://ec.europa.eu/eurostat/databrowser/view/HLTH_PS_SCRE$DEFAULTVIEW/default/table?lang=en). There are 963 observations with annually agregated data in percentage. The columns are 10.*"
   ]
  },
  {
   "cell_type": "code",
   "execution_count": 3,
   "id": "35a14eb2-6780-4597-a2e1-cae29bd9814a",
   "metadata": {
    "tags": []
   },
   "outputs": [],
   "source": [
    "bc_eurostat = pd.read_csv(\"data\\eurostat_breast_data.csv\")"
   ]
  },
  {
   "cell_type": "code",
   "execution_count": 4,
   "id": "14b12acc-c940-462c-bf1d-519a7294d1e8",
   "metadata": {
    "tags": []
   },
   "outputs": [],
   "source": [
    "# Let's rename and make the column names more pythonic.\n",
    "\n",
    "bc_eurostat.columns = bc_eurostat.columns.str.lower()\n",
    "bc_eurostat[\"last_update\"] = bc_eurostat[\"last update\"]\n",
    "bc_eurostat = bc_eurostat.drop(columns = [\"last update\"])"
   ]
  },
  {
   "cell_type": "code",
   "execution_count": 5,
   "id": "b7984be4-5bff-4fe6-970d-8dfda3c6b6d8",
   "metadata": {
    "tags": []
   },
   "outputs": [
    {
     "data": {
      "text/plain": [
       "(963, 10)"
      ]
     },
     "execution_count": 5,
     "metadata": {},
     "output_type": "execute_result"
    }
   ],
   "source": [
    "bc_eurostat.shape"
   ]
  },
  {
   "cell_type": "code",
   "execution_count": 6,
   "id": "936bbdaa-0d54-4b4d-b549-36c39bbf4d47",
   "metadata": {
    "tags": []
   },
   "outputs": [
    {
     "data": {
      "text/plain": [
       "dataflow        object\n",
       "freq            object\n",
       "unit            object\n",
       "source          object\n",
       "icd10           object\n",
       "geo             object\n",
       "time_period      int64\n",
       "obs_value      float64\n",
       "obs_flag        object\n",
       "last_update     object\n",
       "dtype: object"
      ]
     },
     "execution_count": 6,
     "metadata": {},
     "output_type": "execute_result"
    }
   ],
   "source": [
    "bc_eurostat.dtypes"
   ]
  },
  {
   "cell_type": "markdown",
   "id": "1fbba096-bf2b-46e9-80e3-cd2d993c0de0",
   "metadata": {},
   "source": [
    "We see eight catagorical fields and two numeric, which is expected, due to the data contained in the table."
   ]
  },
  {
   "cell_type": "code",
   "execution_count": 7,
   "id": "666c2255-171e-4c9c-bc47-936c0261882d",
   "metadata": {
    "tags": []
   },
   "outputs": [
    {
     "data": {
      "text/plain": [
       "dataflow         0\n",
       "freq             0\n",
       "unit             0\n",
       "source           0\n",
       "icd10            0\n",
       "geo              0\n",
       "time_period      0\n",
       "obs_value        0\n",
       "obs_flag       649\n",
       "last_update      0\n",
       "dtype: int64"
      ]
     },
     "execution_count": 7,
     "metadata": {},
     "output_type": "execute_result"
    }
   ],
   "source": [
    "#Let's check for missing values in the dataset\n",
    "\n",
    "bc_eurostat.isnull().sum()"
   ]
  },
  {
   "cell_type": "markdown",
   "id": "683912ac-9aeb-48fd-9a53-ed3afe0f0290",
   "metadata": {},
   "source": [
    "Some of the fields in the column obs_flag are missing - 649. Let's explore further this field to check if this is an issue and how to address it."
   ]
  },
  {
   "cell_type": "code",
   "execution_count": 8,
   "id": "979ed023-dc77-480f-aa6c-7658fda4efc0",
   "metadata": {
    "tags": []
   },
   "outputs": [
    {
     "data": {
      "text/plain": [
       "array([nan, 'b', 'd', 'e', 'dp', 'p', 'bd'], dtype=object)"
      ]
     },
     "execution_count": 8,
     "metadata": {},
     "output_type": "execute_result"
    }
   ],
   "source": [
    "bc_eurostat.obs_flag.unique()"
   ]
  },
  {
   "cell_type": "markdown",
   "id": "e2a61e3b-502d-4ccb-bfbd-97554b0a8ce0",
   "metadata": {},
   "source": [
    "According to the documentation \"obs_flag\" string values correspond to - b: break in time series; d: definition differs; e: estimated; bd: break in time series, definition differs; dp: definition differs, provisional; p: provisional.\n",
    "This column gives an information on the way the data has been presented. The missing values are not an issue, as we are not going to work with this column further. I will leave them as they are, without removing observations or replacing them."
   ]
  },
  {
   "cell_type": "code",
   "execution_count": 9,
   "id": "c4f174b0-4948-4514-86f5-0a3fe8d68b5c",
   "metadata": {
    "tags": []
   },
   "outputs": [
    {
     "data": {
      "text/html": [
       "<div>\n",
       "<style scoped>\n",
       "    .dataframe tbody tr th:only-of-type {\n",
       "        vertical-align: middle;\n",
       "    }\n",
       "\n",
       "    .dataframe tbody tr th {\n",
       "        vertical-align: top;\n",
       "    }\n",
       "\n",
       "    .dataframe thead th {\n",
       "        text-align: right;\n",
       "    }\n",
       "</style>\n",
       "<table border=\"1\" class=\"dataframe\">\n",
       "  <thead>\n",
       "    <tr style=\"text-align: right;\">\n",
       "      <th></th>\n",
       "      <th>dataflow</th>\n",
       "      <th>freq</th>\n",
       "      <th>unit</th>\n",
       "      <th>source</th>\n",
       "      <th>icd10</th>\n",
       "      <th>geo</th>\n",
       "      <th>time_period</th>\n",
       "      <th>obs_value</th>\n",
       "      <th>obs_flag</th>\n",
       "      <th>last_update</th>\n",
       "    </tr>\n",
       "  </thead>\n",
       "  <tbody>\n",
       "    <tr>\n",
       "      <th>0</th>\n",
       "      <td>ESTAT:HLTH_PS_SCRE(1.0)</td>\n",
       "      <td>A</td>\n",
       "      <td>PC</td>\n",
       "      <td>PRG</td>\n",
       "      <td>C50</td>\n",
       "      <td>BE</td>\n",
       "      <td>2001</td>\n",
       "      <td>50.0</td>\n",
       "      <td>NaN</td>\n",
       "      <td>12/07/22 11:00:00</td>\n",
       "    </tr>\n",
       "    <tr>\n",
       "      <th>1</th>\n",
       "      <td>ESTAT:HLTH_PS_SCRE(1.0)</td>\n",
       "      <td>A</td>\n",
       "      <td>PC</td>\n",
       "      <td>PRG</td>\n",
       "      <td>C50</td>\n",
       "      <td>BE</td>\n",
       "      <td>2002</td>\n",
       "      <td>54.0</td>\n",
       "      <td>NaN</td>\n",
       "      <td>12/07/22 11:00:00</td>\n",
       "    </tr>\n",
       "    <tr>\n",
       "      <th>2</th>\n",
       "      <td>ESTAT:HLTH_PS_SCRE(1.0)</td>\n",
       "      <td>A</td>\n",
       "      <td>PC</td>\n",
       "      <td>PRG</td>\n",
       "      <td>C50</td>\n",
       "      <td>BE</td>\n",
       "      <td>2003</td>\n",
       "      <td>53.7</td>\n",
       "      <td>NaN</td>\n",
       "      <td>12/07/22 11:00:00</td>\n",
       "    </tr>\n",
       "    <tr>\n",
       "      <th>3</th>\n",
       "      <td>ESTAT:HLTH_PS_SCRE(1.0)</td>\n",
       "      <td>A</td>\n",
       "      <td>PC</td>\n",
       "      <td>PRG</td>\n",
       "      <td>C50</td>\n",
       "      <td>BE</td>\n",
       "      <td>2004</td>\n",
       "      <td>55.9</td>\n",
       "      <td>NaN</td>\n",
       "      <td>12/07/22 11:00:00</td>\n",
       "    </tr>\n",
       "    <tr>\n",
       "      <th>4</th>\n",
       "      <td>ESTAT:HLTH_PS_SCRE(1.0)</td>\n",
       "      <td>A</td>\n",
       "      <td>PC</td>\n",
       "      <td>PRG</td>\n",
       "      <td>C50</td>\n",
       "      <td>BE</td>\n",
       "      <td>2005</td>\n",
       "      <td>56.6</td>\n",
       "      <td>NaN</td>\n",
       "      <td>12/07/22 11:00:00</td>\n",
       "    </tr>\n",
       "  </tbody>\n",
       "</table>\n",
       "</div>"
      ],
      "text/plain": [
       "                  dataflow freq unit source icd10 geo  time_period  obs_value  \\\n",
       "0  ESTAT:HLTH_PS_SCRE(1.0)    A   PC    PRG   C50  BE         2001       50.0   \n",
       "1  ESTAT:HLTH_PS_SCRE(1.0)    A   PC    PRG   C50  BE         2002       54.0   \n",
       "2  ESTAT:HLTH_PS_SCRE(1.0)    A   PC    PRG   C50  BE         2003       53.7   \n",
       "3  ESTAT:HLTH_PS_SCRE(1.0)    A   PC    PRG   C50  BE         2004       55.9   \n",
       "4  ESTAT:HLTH_PS_SCRE(1.0)    A   PC    PRG   C50  BE         2005       56.6   \n",
       "\n",
       "  obs_flag        last_update  \n",
       "0      NaN  12/07/22 11:00:00  \n",
       "1      NaN  12/07/22 11:00:00  \n",
       "2      NaN  12/07/22 11:00:00  \n",
       "3      NaN  12/07/22 11:00:00  \n",
       "4      NaN  12/07/22 11:00:00  "
      ]
     },
     "execution_count": 9,
     "metadata": {},
     "output_type": "execute_result"
    }
   ],
   "source": [
    "# Let's have a look at the table.\n",
    "\n",
    "bc_eurostat.head()"
   ]
  },
  {
   "cell_type": "code",
   "execution_count": 10,
   "id": "63876a4a-7482-41df-822a-bfdeed59f1a6",
   "metadata": {
    "tags": []
   },
   "outputs": [
    {
     "data": {
      "text/plain": [
       "(array(['ESTAT:HLTH_PS_SCRE(1.0)'], dtype=object),\n",
       " array(['12/07/22 11:00:00'], dtype=object))"
      ]
     },
     "execution_count": 10,
     "metadata": {},
     "output_type": "execute_result"
    }
   ],
   "source": [
    "bc_eurostat.dataflow.unique(), bc_eurostat[\"last_update\"].unique()"
   ]
  },
  {
   "cell_type": "markdown",
   "id": "ce8d94b0-5f43-4cef-915e-539b21577f10",
   "metadata": {},
   "source": [
    "The first and the last columns of Eurostat dataset doesn't tell us anything, but the name and last update of the dataset. We have one unique value per column. We will exclude them from the EDA, as we don't get useful information."
   ]
  },
  {
   "cell_type": "code",
   "execution_count": 11,
   "id": "f7a1139b-a78a-4c93-b223-9f1b7430b107",
   "metadata": {
    "tags": []
   },
   "outputs": [
    {
     "data": {
      "text/plain": [
       "(array(['A'], dtype=object), array(['PC'], dtype=object))"
      ]
     },
     "execution_count": 11,
     "metadata": {},
     "output_type": "execute_result"
    }
   ],
   "source": [
    "bc_eurostat.freq.unique(), bc_eurostat.unit.unique()"
   ]
  },
  {
   "cell_type": "markdown",
   "id": "7cbc7029-dc97-4108-8d27-600c44d8d535",
   "metadata": {},
   "source": [
    "According to the documentation second and third columns tell us the data is agregated annually and measure unit is percentage."
   ]
  },
  {
   "cell_type": "code",
   "execution_count": 12,
   "id": "4b257539-dce3-4c6a-a5da-4f7a65a1c3ae",
   "metadata": {
    "tags": []
   },
   "outputs": [
    {
     "name": "stdout",
     "output_type": "stream",
     "text": [
      "Unique medical diagnosis:  ['C50' 'C53']\n",
      "List of the countires included in the research:  ['BE' 'BG' 'CY' 'CZ' 'DE' 'DK' 'EE' 'FI' 'FR' 'HR' 'HU' 'IE' 'IS' 'IT'\n",
      " 'LI' 'LT' 'LU' 'LV' 'ME' 'MK' 'MT' 'NL' 'NO' 'RO' 'RS' 'SI' 'SK' 'TR'\n",
      " 'UK' 'SE' 'AT' 'CH' 'EL' 'ES' 'PL' 'PT']\n",
      "Number of countries is:  36\n",
      "Years of observations:  [2001 2002 2003 2004 2005 2006 2007 2008 2009 2010 2011 2012 2013 2014\n",
      " 2015 2016 2017 2018 2019 2020 2021 2000]\n"
     ]
    }
   ],
   "source": [
    "print(\"Unique medical diagnosis: \", bc_eurostat.icd10.unique()) \n",
    "\n",
    "print(\"List of the countires included in the research: \", bc_eurostat.geo.unique())\n",
    "print(\"Number of countries is: \", len(bc_eurostat.geo.unique()))\n",
    "\n",
    "print(\"Years of observations: \", bc_eurostat.time_period.unique())"
   ]
  },
  {
   "cell_type": "markdown",
   "id": "2f18c158-18d8-4174-9031-5429c56f08a6",
   "metadata": {},
   "source": [
    "The column \"icd10\" corresponds to medical codes for diagnosis - C50: Malignant neoplasm of breast, C53: Malignant neoplasm of cervix uteri. \n",
    "The observations include 36 european countries. Period of observations is from 2000 to 2021 inclusive.\n",
    "Interesting fields are \"geo\" - country name, \"time_period\" - year and \"obs_value\" - calculated percentage.\n",
    "Let's create some visualization to get sense of the data."
   ]
  },
  {
   "cell_type": "markdown",
   "id": "43fe340a-1074-4b5e-886b-2745ab3ac498",
   "metadata": {},
   "source": [
    "**2021 Figures**\n",
    "\n",
    "We can check how the figures for 2021 look like."
   ]
  },
  {
   "cell_type": "code",
   "execution_count": 13,
   "id": "f812b2e3-cbb8-49ed-be56-1d6a75a3baf4",
   "metadata": {
    "tags": []
   },
   "outputs": [
    {
     "data": {
      "text/html": [
       "<div>\n",
       "<style scoped>\n",
       "    .dataframe tbody tr th:only-of-type {\n",
       "        vertical-align: middle;\n",
       "    }\n",
       "\n",
       "    .dataframe tbody tr th {\n",
       "        vertical-align: top;\n",
       "    }\n",
       "\n",
       "    .dataframe thead th {\n",
       "        text-align: right;\n",
       "    }\n",
       "</style>\n",
       "<table border=\"1\" class=\"dataframe\">\n",
       "  <thead>\n",
       "    <tr style=\"text-align: right;\">\n",
       "      <th></th>\n",
       "      <th>dataflow</th>\n",
       "      <th>freq</th>\n",
       "      <th>unit</th>\n",
       "      <th>source</th>\n",
       "      <th>icd10</th>\n",
       "      <th>geo</th>\n",
       "      <th>time_period</th>\n",
       "      <th>obs_value</th>\n",
       "      <th>obs_flag</th>\n",
       "      <th>last_update</th>\n",
       "    </tr>\n",
       "  </thead>\n",
       "  <tbody>\n",
       "    <tr>\n",
       "      <th>141</th>\n",
       "      <td>ESTAT:HLTH_PS_SCRE(1.0)</td>\n",
       "      <td>A</td>\n",
       "      <td>PC</td>\n",
       "      <td>PRG</td>\n",
       "      <td>C50</td>\n",
       "      <td>HR</td>\n",
       "      <td>2021</td>\n",
       "      <td>56.0</td>\n",
       "      <td>NaN</td>\n",
       "      <td>12/07/22 11:00:00</td>\n",
       "    </tr>\n",
       "    <tr>\n",
       "      <th>238</th>\n",
       "      <td>ESTAT:HLTH_PS_SCRE(1.0)</td>\n",
       "      <td>A</td>\n",
       "      <td>PC</td>\n",
       "      <td>PRG</td>\n",
       "      <td>C50</td>\n",
       "      <td>LT</td>\n",
       "      <td>2021</td>\n",
       "      <td>45.5</td>\n",
       "      <td>p</td>\n",
       "      <td>12/07/22 11:00:00</td>\n",
       "    </tr>\n",
       "    <tr>\n",
       "      <th>272</th>\n",
       "      <td>ESTAT:HLTH_PS_SCRE(1.0)</td>\n",
       "      <td>A</td>\n",
       "      <td>PC</td>\n",
       "      <td>PRG</td>\n",
       "      <td>C50</td>\n",
       "      <td>LV</td>\n",
       "      <td>2021</td>\n",
       "      <td>30.8</td>\n",
       "      <td>NaN</td>\n",
       "      <td>12/07/22 11:00:00</td>\n",
       "    </tr>\n",
       "    <tr>\n",
       "      <th>289</th>\n",
       "      <td>ESTAT:HLTH_PS_SCRE(1.0)</td>\n",
       "      <td>A</td>\n",
       "      <td>PC</td>\n",
       "      <td>PRG</td>\n",
       "      <td>C50</td>\n",
       "      <td>MT</td>\n",
       "      <td>2021</td>\n",
       "      <td>77.8</td>\n",
       "      <td>NaN</td>\n",
       "      <td>12/07/22 11:00:00</td>\n",
       "    </tr>\n",
       "    <tr>\n",
       "      <th>332</th>\n",
       "      <td>ESTAT:HLTH_PS_SCRE(1.0)</td>\n",
       "      <td>A</td>\n",
       "      <td>PC</td>\n",
       "      <td>PRG</td>\n",
       "      <td>C50</td>\n",
       "      <td>NO</td>\n",
       "      <td>2021</td>\n",
       "      <td>65.5</td>\n",
       "      <td>NaN</td>\n",
       "      <td>12/07/22 11:00:00</td>\n",
       "    </tr>\n",
       "    <tr>\n",
       "      <th>343</th>\n",
       "      <td>ESTAT:HLTH_PS_SCRE(1.0)</td>\n",
       "      <td>A</td>\n",
       "      <td>PC</td>\n",
       "      <td>PRG</td>\n",
       "      <td>C50</td>\n",
       "      <td>RS</td>\n",
       "      <td>2021</td>\n",
       "      <td>5.2</td>\n",
       "      <td>NaN</td>\n",
       "      <td>12/07/22 11:00:00</td>\n",
       "    </tr>\n",
       "    <tr>\n",
       "      <th>355</th>\n",
       "      <td>ESTAT:HLTH_PS_SCRE(1.0)</td>\n",
       "      <td>A</td>\n",
       "      <td>PC</td>\n",
       "      <td>PRG</td>\n",
       "      <td>C50</td>\n",
       "      <td>SI</td>\n",
       "      <td>2021</td>\n",
       "      <td>77.2</td>\n",
       "      <td>NaN</td>\n",
       "      <td>12/07/22 11:00:00</td>\n",
       "    </tr>\n",
       "    <tr>\n",
       "      <th>561</th>\n",
       "      <td>ESTAT:HLTH_PS_SCRE(1.0)</td>\n",
       "      <td>A</td>\n",
       "      <td>PC</td>\n",
       "      <td>PRG</td>\n",
       "      <td>C53</td>\n",
       "      <td>LT</td>\n",
       "      <td>2021</td>\n",
       "      <td>53.5</td>\n",
       "      <td>dp</td>\n",
       "      <td>12/07/22 11:00:00</td>\n",
       "    </tr>\n",
       "    <tr>\n",
       "      <th>582</th>\n",
       "      <td>ESTAT:HLTH_PS_SCRE(1.0)</td>\n",
       "      <td>A</td>\n",
       "      <td>PC</td>\n",
       "      <td>PRG</td>\n",
       "      <td>C53</td>\n",
       "      <td>LV</td>\n",
       "      <td>2021</td>\n",
       "      <td>35.1</td>\n",
       "      <td>NaN</td>\n",
       "      <td>12/07/22 11:00:00</td>\n",
       "    </tr>\n",
       "    <tr>\n",
       "      <th>596</th>\n",
       "      <td>ESTAT:HLTH_PS_SCRE(1.0)</td>\n",
       "      <td>A</td>\n",
       "      <td>PC</td>\n",
       "      <td>PRG</td>\n",
       "      <td>C53</td>\n",
       "      <td>MT</td>\n",
       "      <td>2021</td>\n",
       "      <td>23.5</td>\n",
       "      <td>d</td>\n",
       "      <td>12/07/22 11:00:00</td>\n",
       "    </tr>\n",
       "    <tr>\n",
       "      <th>654</th>\n",
       "      <td>ESTAT:HLTH_PS_SCRE(1.0)</td>\n",
       "      <td>A</td>\n",
       "      <td>PC</td>\n",
       "      <td>PRG</td>\n",
       "      <td>C53</td>\n",
       "      <td>RS</td>\n",
       "      <td>2021</td>\n",
       "      <td>5.6</td>\n",
       "      <td>d</td>\n",
       "      <td>12/07/22 11:00:00</td>\n",
       "    </tr>\n",
       "    <tr>\n",
       "      <th>692</th>\n",
       "      <td>ESTAT:HLTH_PS_SCRE(1.0)</td>\n",
       "      <td>A</td>\n",
       "      <td>PC</td>\n",
       "      <td>PRG</td>\n",
       "      <td>C53</td>\n",
       "      <td>SI</td>\n",
       "      <td>2021</td>\n",
       "      <td>71.7</td>\n",
       "      <td>d</td>\n",
       "      <td>12/07/22 11:00:00</td>\n",
       "    </tr>\n",
       "  </tbody>\n",
       "</table>\n",
       "</div>"
      ],
      "text/plain": [
       "                    dataflow freq unit source icd10 geo  time_period  \\\n",
       "141  ESTAT:HLTH_PS_SCRE(1.0)    A   PC    PRG   C50  HR         2021   \n",
       "238  ESTAT:HLTH_PS_SCRE(1.0)    A   PC    PRG   C50  LT         2021   \n",
       "272  ESTAT:HLTH_PS_SCRE(1.0)    A   PC    PRG   C50  LV         2021   \n",
       "289  ESTAT:HLTH_PS_SCRE(1.0)    A   PC    PRG   C50  MT         2021   \n",
       "332  ESTAT:HLTH_PS_SCRE(1.0)    A   PC    PRG   C50  NO         2021   \n",
       "343  ESTAT:HLTH_PS_SCRE(1.0)    A   PC    PRG   C50  RS         2021   \n",
       "355  ESTAT:HLTH_PS_SCRE(1.0)    A   PC    PRG   C50  SI         2021   \n",
       "561  ESTAT:HLTH_PS_SCRE(1.0)    A   PC    PRG   C53  LT         2021   \n",
       "582  ESTAT:HLTH_PS_SCRE(1.0)    A   PC    PRG   C53  LV         2021   \n",
       "596  ESTAT:HLTH_PS_SCRE(1.0)    A   PC    PRG   C53  MT         2021   \n",
       "654  ESTAT:HLTH_PS_SCRE(1.0)    A   PC    PRG   C53  RS         2021   \n",
       "692  ESTAT:HLTH_PS_SCRE(1.0)    A   PC    PRG   C53  SI         2021   \n",
       "\n",
       "     obs_value obs_flag        last_update  \n",
       "141       56.0      NaN  12/07/22 11:00:00  \n",
       "238       45.5        p  12/07/22 11:00:00  \n",
       "272       30.8      NaN  12/07/22 11:00:00  \n",
       "289       77.8      NaN  12/07/22 11:00:00  \n",
       "332       65.5      NaN  12/07/22 11:00:00  \n",
       "343        5.2      NaN  12/07/22 11:00:00  \n",
       "355       77.2      NaN  12/07/22 11:00:00  \n",
       "561       53.5       dp  12/07/22 11:00:00  \n",
       "582       35.1      NaN  12/07/22 11:00:00  \n",
       "596       23.5        d  12/07/22 11:00:00  \n",
       "654        5.6        d  12/07/22 11:00:00  \n",
       "692       71.7        d  12/07/22 11:00:00  "
      ]
     },
     "execution_count": 13,
     "metadata": {},
     "output_type": "execute_result"
    }
   ],
   "source": [
    "# Let's pull out the data for 2021\n",
    "\n",
    "data_2021 = bc_eurostat[bc_eurostat.time_period == 2021]\n",
    "data_2021"
   ]
  },
  {
   "cell_type": "markdown",
   "id": "c944d5c0-6a0f-4966-9a59-b250637f5aba",
   "metadata": {},
   "source": [
    "*We observe non-unique values in column \"geo\", which gives us a hard time to uncover what the data could show us for 2021.\n",
    "Let's make it more suitable for our goal by unmelting column \"icd10\".*"
   ]
  },
  {
   "cell_type": "code",
   "execution_count": 14,
   "id": "d7738350-2766-430f-aa5b-8b763da61360",
   "metadata": {
    "tags": []
   },
   "outputs": [
    {
     "data": {
      "text/html": [
       "<div>\n",
       "<style scoped>\n",
       "    .dataframe tbody tr th:only-of-type {\n",
       "        vertical-align: middle;\n",
       "    }\n",
       "\n",
       "    .dataframe tbody tr th {\n",
       "        vertical-align: top;\n",
       "    }\n",
       "\n",
       "    .dataframe thead th {\n",
       "        text-align: right;\n",
       "    }\n",
       "</style>\n",
       "<table border=\"1\" class=\"dataframe\">\n",
       "  <thead>\n",
       "    <tr style=\"text-align: right;\">\n",
       "      <th>icd10</th>\n",
       "      <th>C50</th>\n",
       "      <th>C53</th>\n",
       "    </tr>\n",
       "    <tr>\n",
       "      <th>geo</th>\n",
       "      <th></th>\n",
       "      <th></th>\n",
       "    </tr>\n",
       "  </thead>\n",
       "  <tbody>\n",
       "    <tr>\n",
       "      <th>HR</th>\n",
       "      <td>56.0</td>\n",
       "      <td>NaN</td>\n",
       "    </tr>\n",
       "    <tr>\n",
       "      <th>LT</th>\n",
       "      <td>45.5</td>\n",
       "      <td>53.5</td>\n",
       "    </tr>\n",
       "    <tr>\n",
       "      <th>LV</th>\n",
       "      <td>30.8</td>\n",
       "      <td>35.1</td>\n",
       "    </tr>\n",
       "    <tr>\n",
       "      <th>MT</th>\n",
       "      <td>77.8</td>\n",
       "      <td>23.5</td>\n",
       "    </tr>\n",
       "    <tr>\n",
       "      <th>NO</th>\n",
       "      <td>65.5</td>\n",
       "      <td>NaN</td>\n",
       "    </tr>\n",
       "    <tr>\n",
       "      <th>RS</th>\n",
       "      <td>5.2</td>\n",
       "      <td>5.6</td>\n",
       "    </tr>\n",
       "    <tr>\n",
       "      <th>SI</th>\n",
       "      <td>77.2</td>\n",
       "      <td>71.7</td>\n",
       "    </tr>\n",
       "  </tbody>\n",
       "</table>\n",
       "</div>"
      ],
      "text/plain": [
       "icd10   C50   C53\n",
       "geo              \n",
       "HR     56.0   NaN\n",
       "LT     45.5  53.5\n",
       "LV     30.8  35.1\n",
       "MT     77.8  23.5\n",
       "NO     65.5   NaN\n",
       "RS      5.2   5.6\n",
       "SI     77.2  71.7"
      ]
     },
     "execution_count": 14,
     "metadata": {},
     "output_type": "execute_result"
    }
   ],
   "source": [
    "tidy_2021 = data_2021.pivot(columns = \"icd10\", index = \"geo\", values = \"obs_value\")\n",
    "tidy_2021"
   ]
  },
  {
   "cell_type": "code",
   "execution_count": 15,
   "id": "0939fca4-00bb-4e37-8f04-984777c6f8d8",
   "metadata": {
    "tags": []
   },
   "outputs": [
    {
     "data": {
      "image/png": "[encoded data removed]",
      "text/plain": [
       "<Figure size 640x480 with 1 Axes>"
      ]
     },
     "metadata": {},
     "output_type": "display_data"
    }
   ],
   "source": [
    "tidy_2021.plot.barh(alpha = 0.7)\n",
    "\n",
    "plt.title(\"Breast Cancer Cases in 2021\")\n",
    "plt.xlabel(\"Percantage\")\n",
    "plt.ylabel(\"Country\")\n",
    "plt.xticks(range(0, 110, 10))\n",
    "plt.yticks(range(0, 7), tidy_2021.index)\n",
    "plt.gca().invert_yaxis()\n",
    "plt.show()"
   ]
  },
  {
   "cell_type": "markdown",
   "id": "a3dc775a-c840-45c8-b195-f7ae15c29ecf",
   "metadata": {},
   "source": [
    "*Just 7 countries are presented in the 2021 data out of 36. Slovenia shows very high number of Breast Cancer cases out of all observed - above 70%, while Serbia is on the bottom with under 10%. However we should mind the different ways in different countries the data has been collected. Also for the diagnosis have been labeled.*"
   ]
  },
  {
   "cell_type": "markdown",
   "id": "703dbea0-e861-4ac6-9a9d-4fd9be1ca958",
   "metadata": {
    "tags": []
   },
   "source": [
    "**Bulgaria Numbers**\n",
    "\n",
    "*We are interested only in Bulgaria breast cancer cases. What is the situation historically and if there is a trend that could reveals more. We assume bouth sources of information (source: PRG, SRV) are equally reliable, so we will aggregate our data by country, year and diagnosis.*"
   ]
  },
  {
   "cell_type": "code",
   "execution_count": 16,
   "id": "fa64bb10-49f1-4508-9bab-aba0afb333b1",
   "metadata": {
    "tags": []
   },
   "outputs": [
    {
     "data": {
      "text/plain": [
       "array(['PRG', 'SRV'], dtype=object)"
      ]
     },
     "execution_count": 16,
     "metadata": {},
     "output_type": "execute_result"
    }
   ],
   "source": [
    "bc_eurostat.source.unique()"
   ]
  },
  {
   "cell_type": "markdown",
   "id": "99de48d5-ae2c-41d7-a343-e1b08777c5f7",
   "metadata": {
    "tags": []
   },
   "source": [
    "**Functions creation**\n",
    "\n",
    "*First function provides the data in the suitable size and type. Second function plots visuals to see the numbers.*"
   ]
  },
  {
   "cell_type": "code",
   "execution_count": 17,
   "id": "b6d4f142-2e18-4285-8fc9-039fe6642240",
   "metadata": {
    "tags": []
   },
   "outputs": [],
   "source": [
    "def get_cntry_cases(dataset, geo_name, icd10_name):\n",
    "    \"\"\"\n",
    "    The function scrunch the numbers by grouping a given dataset by country name, diagnosis and year.\n",
    "    It filters for specific country and diagnosis. \n",
    "    \"\"\"\n",
    "        \n",
    "    dataset = dataset[(dataset.geo == geo_name)\n",
    "                     & (dataset.icd10 == icd10_name)]\n",
    "    result = dataset.groupby(by = [\"geo\", \"icd10\", \"time_period\"])[\"obs_value\"].mean().round(0)\n",
    "    return result"
   ]
  },
  {
   "cell_type": "code",
   "execution_count": 18,
   "id": "08cdec2a-036d-4e89-9f88-55c7e5b6014b",
   "metadata": {
    "tags": []
   },
   "outputs": [],
   "source": [
    "def plot_cases_yearly(x1, y1, x2, y2, xticks, title):\n",
    "    \"\"\" \n",
    "    This is a function for plotting Breast Cancer Cases per Year.\n",
    "    We are using grouped bar chart.\n",
    "    x1, y1 - correspond to data for icd10 = C50\n",
    "    x2, y2 - correspond to data for icd10 = C53\n",
    "    \"\"\"\n",
    "    \n",
    "    width = 0.4\n",
    "    plt.figure(figsize = (8, 6))\n",
    "\n",
    "    plt.bar(x1 - 0.2, y1, width, alpha = 0.7, label = \"C50\")\n",
    "    plt.bar(x2 + 0.2, y2, width, alpha = 0.7, label = \"C53\")\n",
    "\n",
    "    plt.title(title)\n",
    "    plt.xlabel(\"Year\")\n",
    "    plt.ylabel(\"Percentage\")\n",
    "    plt.xticks(xticks)\n",
    "    plt.yticks(range(0, 110, 10))\n",
    "    plt.legend()\n",
    "    plt.show()"
   ]
  },
  {
   "cell_type": "code",
   "execution_count": 19,
   "id": "90804787-0724-4926-8a33-9490b089e984",
   "metadata": {
    "tags": []
   },
   "outputs": [
    {
     "data": {
      "text/plain": [
       "(geo  icd10  time_period\n",
       " BG   C50    2008           22.0\n",
       "             2014           32.0\n",
       "             2015           14.0\n",
       "             2016           21.0\n",
       "             2017           21.0\n",
       "             2019           36.0\n",
       " Name: obs_value, dtype: float64,\n",
       " geo  icd10  time_period\n",
       " BG   C53    2008           47.0\n",
       "             2014           52.0\n",
       "             2015            9.0\n",
       "             2016           34.0\n",
       "             2017           13.0\n",
       "             2019           57.0\n",
       " Name: obs_value, dtype: float64)"
      ]
     },
     "execution_count": 19,
     "metadata": {},
     "output_type": "execute_result"
    }
   ],
   "source": [
    "# We are interested in data for Bulgaria. And separately data for both diagnosis.\n",
    "\n",
    "bg_C50 = get_cntry_cases(bc_eurostat, \"BG\", \"C50\")\n",
    "bg_C53 = get_cntry_cases(bc_eurostat, \"BG\", \"C53\")\n",
    "bg_C50, bg_C53"
   ]
  },
  {
   "cell_type": "code",
   "execution_count": 20,
   "id": "659980ff-9900-4800-88fe-a72b7ca535ec",
   "metadata": {
    "tags": []
   },
   "outputs": [
    {
     "data": {
      "text/plain": [
       "(Int64Index([2008, 2014, 2015, 2016, 2017, 2019], dtype='int64', name='time_period'),\n",
       " Int64Index([2008, 2014, 2015, 2016, 2017, 2019], dtype='int64', name='time_period'))"
      ]
     },
     "execution_count": 20,
     "metadata": {},
     "output_type": "execute_result"
    }
   ],
   "source": [
    "bg_years_list_C50 = bg_C50.index.get_level_values(2)\n",
    "bg_years_list_C53 = bg_C53.index.get_level_values(2)\n",
    "bg_years_list_C50, bg_years_list_C50"
   ]
  },
  {
   "cell_type": "code",
   "execution_count": 21,
   "id": "d7cd1911-e7e2-4b72-ba35-461de2a16649",
   "metadata": {
    "tags": []
   },
   "outputs": [
    {
     "data": {
      "image/png": "[encoded data removed]",
      "text/plain": [
       "<Figure size 800x600 with 1 Axes>"
      ]
     },
     "metadata": {},
     "output_type": "display_data"
    }
   ],
   "source": [
    "plot_cases_yearly(bg_years_list_C50, bg_C50, bg_years_list_C53, bg_C53, bg_years_list_C50, \"Bulgaria Breast Cancer Cases\")"
   ]
  },
  {
   "cell_type": "markdown",
   "id": "31e5ef68-bb81-429c-afa1-b85122966ae8",
   "metadata": {},
   "source": [
    "*It is hard to analyze what we see, so let's try to compare it with something \"similar\".\n",
    "From EU countries Slovakia is with number of population close to the Bulgarian one. According to wikipedia - 5.4 millions in 2021. And 6.5 millions for Bulgaria. Let's check the figures in Slovakia to better understand the situation in Bulgaria.*"
   ]
  },
  {
   "cell_type": "markdown",
   "id": "8bef2c75-aac5-4e1c-90f2-682ed8d1a7d1",
   "metadata": {
    "tags": []
   },
   "source": [
    "**Slovakia Numbers**"
   ]
  },
  {
   "cell_type": "code",
   "execution_count": 22,
   "id": "126243e8-0f84-48ed-a6d3-c074873b6629",
   "metadata": {
    "tags": []
   },
   "outputs": [
    {
     "data": {
      "text/plain": [
       "(geo  icd10  time_period\n",
       " SK   C50    2006           29.0\n",
       "             2007           32.0\n",
       "             2008           34.0\n",
       "             2009           47.0\n",
       "             2010           33.0\n",
       "             2011           31.0\n",
       "             2012           32.0\n",
       "             2013           31.0\n",
       "             2014           42.0\n",
       "             2015           30.0\n",
       "             2016           31.0\n",
       "             2017           31.0\n",
       "             2018           30.0\n",
       "             2019           42.0\n",
       "             2020           27.0\n",
       " Name: obs_value, dtype: float64,\n",
       " geo  icd10  time_period\n",
       " SK   C53    2009           56.0\n",
       "             2010           49.0\n",
       "             2011           48.0\n",
       "             2012           47.0\n",
       "             2013           47.0\n",
       "             2014           58.0\n",
       "             2015           48.0\n",
       "             2016           46.0\n",
       "             2017           46.0\n",
       "             2018           46.0\n",
       "             2019           59.0\n",
       "             2020           40.0\n",
       " Name: obs_value, dtype: float64)"
      ]
     },
     "execution_count": 22,
     "metadata": {},
     "output_type": "execute_result"
    }
   ],
   "source": [
    "# Slovakia data extraction\n",
    "\n",
    "sk_C50 = get_cntry_cases(bc_eurostat, \"SK\", \"C50\")\n",
    "sk_C53 = get_cntry_cases(bc_eurostat, \"SK\", \"C53\")\n",
    "sk_C50, sk_C53"
   ]
  },
  {
   "cell_type": "code",
   "execution_count": 23,
   "id": "dc6d02af-2f13-4439-a978-6dfac95cf9e0",
   "metadata": {
    "tags": []
   },
   "outputs": [
    {
     "data": {
      "text/plain": [
       "(Int64Index([2006, 2007, 2008, 2009, 2010, 2011, 2012, 2013, 2014, 2015, 2016,\n",
       "             2017, 2018, 2019, 2020],\n",
       "            dtype='int64', name='time_period'),\n",
       " Int64Index([2006, 2007, 2008, 2009, 2010, 2011, 2012, 2013, 2014, 2015, 2016,\n",
       "             2017, 2018, 2019, 2020],\n",
       "            dtype='int64', name='time_period'))"
      ]
     },
     "execution_count": 23,
     "metadata": {},
     "output_type": "execute_result"
    }
   ],
   "source": [
    "sk_years_list_C50 = sk_C50.index.get_level_values(2)\n",
    "sk_years_list_C53 = sk_C53.index.get_level_values(2)\n",
    "sk_years_list_C50, sk_years_list_C50"
   ]
  },
  {
   "cell_type": "code",
   "execution_count": 24,
   "id": "b4d04e1a-953d-42b3-a807-145305f0de07",
   "metadata": {
    "tags": []
   },
   "outputs": [
    {
     "data": {
      "image/png": "[encoded data removed]",
      "text/plain": [
       "<Figure size 800x600 with 1 Axes>"
      ]
     },
     "metadata": {},
     "output_type": "display_data"
    }
   ],
   "source": [
    "plot_cases_yearly(sk_years_list_C50, sk_C50, sk_years_list_C53, sk_C53, range(2006, 2021, 2), \"Slovakia Breast Cancer Cases\")"
   ]
  },
  {
   "cell_type": "markdown",
   "id": "ee854f8a-68dc-40b9-a0a7-5c6863cd7547",
   "metadata": {},
   "source": [
    "**Conclusion**\n",
    "\n",
    "*Bulgaria data is not fully presented. There is a gap in data between 2009 and 2013, as well 2018. It is hard to see any trend or pattern. Unlike Slovakia there are cases of C50 that exceeds C53 in two years - 2015 and 2017. The numbers in those two years are significantly lower than the rest, which may point to gap in data collection or a bias. Unfortunately the original data is already agregated and is not compatible for further exploration on this matter.*"
   ]
  },
  {
   "cell_type": "markdown",
   "id": "67bee371-db5b-4d46-a4b8-e2d7484cb2f8",
   "metadata": {
    "tags": []
   },
   "source": [
    "### Winsconsin Data"
   ]
  },
  {
   "cell_type": "markdown",
   "id": "00a96781-bb46-4197-8dc7-e09b79f077e6",
   "metadata": {},
   "source": [
    "The dataset is public, available on the [UCI website](http://archive.ics.uci.edu/dataset/17/breast+cancer+wisconsin+diagnostic) and on [kaggle](https://www.kaggle.com/datasets/uciml/breast-cancer-wisconsin-data). There are 569 observations and 32 features. The features are computed from a digitized image of a fine needle aspirate (FNA) of a breast mass. They describe characteristics of the cell nuclei present in the image.\n",
    "\n",
    "This data set was created by Dr. William H. Wolberg, physician at the University Of Wisconsin Hospital at Madison, Wisconsin,USA. To create the dataset Dr. Wolberg used fluid samples, taken from patients with solid breast masses and an easy-to-use graphical computer program called Xcyt, which is capable of perform the analysis of cytological features based on a digital scan. The program uses a curve-fitting algorithm, to compute ten features from each one of the cells in the sample, than it calculates the mean value, extreme value and standard error of each feature for the image, returning a 30 real-valuated vector."
   ]
  },
  {
   "cell_type": "markdown",
   "id": "812cba64-1e91-4e50-b409-362c573ab640",
   "metadata": {
    "tags": []
   },
   "source": [
    "**Attribute Information:**\n",
    "\n",
    "1. ID number \n",
    "2. Diagnosis (M = malignant, B = benign) \n",
    "3. to 32. Ten real-valued features are computed for each cell nucleus:\n",
    "\n",
    "- radius (mean of distances from center to points on the perimeter)\n",
    "- texture (standard deviation of gray-scale values)\n",
    "- perimeter\n",
    "- area\n",
    "- smoothness (local variation in radius lengths)\n",
    "- compactness (perimeter^2 / area - 1.0)\n",
    "- concavity (severity of concave portions of the contour)\n",
    "- concave points (number of concave portions of the contour)\n",
    "- symmetry\n",
    "- fractal dimension (“coastline approximation” - 1)\n",
    "\n",
    "The mean, standard error and “worst” or largest (mean of the three largest values) of these features were computed for each image, resulting in 30 features. For instance, field 3 is Mean Radius, field 13 is Radius SE, field 23 is Worst Radius."
   ]
  },
  {
   "cell_type": "code",
   "execution_count": 25,
   "id": "eaded45d-14ed-4fa0-b894-586edc637aeb",
   "metadata": {
    "tags": []
   },
   "outputs": [],
   "source": [
    "bc_winsconsin = pd.read_csv(\"data\\wdbc.data\", header = None)"
   ]
  },
  {
   "cell_type": "code",
   "execution_count": 26,
   "id": "3a9b6b0a-70bf-46ee-a9eb-967903120535",
   "metadata": {
    "tags": []
   },
   "outputs": [
    {
     "data": {
      "text/plain": [
       "(569, 32)"
      ]
     },
     "execution_count": 26,
     "metadata": {},
     "output_type": "execute_result"
    }
   ],
   "source": [
    "bc_winsconsin.shape"
   ]
  },
  {
   "cell_type": "code",
   "execution_count": 27,
   "id": "3852212d-b668-4b78-8b4b-12461338f9ad",
   "metadata": {
    "tags": []
   },
   "outputs": [],
   "source": [
    "# Renaming the columns to be more descriptive\n",
    "\n",
    "col_names_winsc = [\"id\", \"diagnosis\", \"radius_mean\", \"texture_mean\", \"perimeter_mean\", \"area_mean\", \"smoothness_mean\", \"compactness_mean\", \"concavity_mean\", \"concave_points_mean\", \"symmetry_mean\", \"fractal_dimension_mean\", \"radius_se\", \"texture_se\", \"perimeter_se\", \"area_se\", \"smoothness_se\", \"compactness_se\", \"concavity_se\", \"concave_points_se\", \"symmetry_se\", \"fractal_dimension_se\", \"radius_worst\", \"texture_worst\", \"perimeter_worst\", \"area_worst\", \"smoothness_worst\", \"compactness_worst\", \"concavity_worst\", \"concave_points_worst\", \"symmetry_worst\", \"fractal_dimension_worst\"]\n",
    "bc_winsconsin.columns = col_names_winsc"
   ]
  },
  {
   "cell_type": "code",
   "execution_count": 28,
   "id": "237f723d-f247-44ba-ba12-3c7f0ffcbf6e",
   "metadata": {
    "tags": []
   },
   "outputs": [
    {
     "data": {
      "text/html": [
       "<div>\n",
       "<style scoped>\n",
       "    .dataframe tbody tr th:only-of-type {\n",
       "        vertical-align: middle;\n",
       "    }\n",
       "\n",
       "    .dataframe tbody tr th {\n",
       "        vertical-align: top;\n",
       "    }\n",
       "\n",
       "    .dataframe thead th {\n",
       "        text-align: right;\n",
       "    }\n",
       "</style>\n",
       "<table border=\"1\" class=\"dataframe\">\n",
       "  <thead>\n",
       "    <tr style=\"text-align: right;\">\n",
       "      <th></th>\n",
       "      <th>id</th>\n",
       "      <th>diagnosis</th>\n",
       "      <th>radius_mean</th>\n",
       "      <th>texture_mean</th>\n",
       "      <th>perimeter_mean</th>\n",
       "      <th>area_mean</th>\n",
       "      <th>smoothness_mean</th>\n",
       "      <th>compactness_mean</th>\n",
       "      <th>concavity_mean</th>\n",
       "      <th>concave_points_mean</th>\n",
       "      <th>...</th>\n",
       "      <th>radius_worst</th>\n",
       "      <th>texture_worst</th>\n",
       "      <th>perimeter_worst</th>\n",
       "      <th>area_worst</th>\n",
       "      <th>smoothness_worst</th>\n",
       "      <th>compactness_worst</th>\n",
       "      <th>concavity_worst</th>\n",
       "      <th>concave_points_worst</th>\n",
       "      <th>symmetry_worst</th>\n",
       "      <th>fractal_dimension_worst</th>\n",
       "    </tr>\n",
       "  </thead>\n",
       "  <tbody>\n",
       "    <tr>\n",
       "      <th>0</th>\n",
       "      <td>842302</td>\n",
       "      <td>M</td>\n",
       "      <td>17.99</td>\n",
       "      <td>10.38</td>\n",
       "      <td>122.80</td>\n",
       "      <td>1001.0</td>\n",
       "      <td>0.11840</td>\n",
       "      <td>0.27760</td>\n",
       "      <td>0.3001</td>\n",
       "      <td>0.14710</td>\n",
       "      <td>...</td>\n",
       "      <td>25.38</td>\n",
       "      <td>17.33</td>\n",
       "      <td>184.60</td>\n",
       "      <td>2019.0</td>\n",
       "      <td>0.1622</td>\n",
       "      <td>0.6656</td>\n",
       "      <td>0.7119</td>\n",
       "      <td>0.2654</td>\n",
       "      <td>0.4601</td>\n",
       "      <td>0.11890</td>\n",
       "    </tr>\n",
       "    <tr>\n",
       "      <th>1</th>\n",
       "      <td>842517</td>\n",
       "      <td>M</td>\n",
       "      <td>20.57</td>\n",
       "      <td>17.77</td>\n",
       "      <td>132.90</td>\n",
       "      <td>1326.0</td>\n",
       "      <td>0.08474</td>\n",
       "      <td>0.07864</td>\n",
       "      <td>0.0869</td>\n",
       "      <td>0.07017</td>\n",
       "      <td>...</td>\n",
       "      <td>24.99</td>\n",
       "      <td>23.41</td>\n",
       "      <td>158.80</td>\n",
       "      <td>1956.0</td>\n",
       "      <td>0.1238</td>\n",
       "      <td>0.1866</td>\n",
       "      <td>0.2416</td>\n",
       "      <td>0.1860</td>\n",
       "      <td>0.2750</td>\n",
       "      <td>0.08902</td>\n",
       "    </tr>\n",
       "    <tr>\n",
       "      <th>2</th>\n",
       "      <td>84300903</td>\n",
       "      <td>M</td>\n",
       "      <td>19.69</td>\n",
       "      <td>21.25</td>\n",
       "      <td>130.00</td>\n",
       "      <td>1203.0</td>\n",
       "      <td>0.10960</td>\n",
       "      <td>0.15990</td>\n",
       "      <td>0.1974</td>\n",
       "      <td>0.12790</td>\n",
       "      <td>...</td>\n",
       "      <td>23.57</td>\n",
       "      <td>25.53</td>\n",
       "      <td>152.50</td>\n",
       "      <td>1709.0</td>\n",
       "      <td>0.1444</td>\n",
       "      <td>0.4245</td>\n",
       "      <td>0.4504</td>\n",
       "      <td>0.2430</td>\n",
       "      <td>0.3613</td>\n",
       "      <td>0.08758</td>\n",
       "    </tr>\n",
       "    <tr>\n",
       "      <th>3</th>\n",
       "      <td>84348301</td>\n",
       "      <td>M</td>\n",
       "      <td>11.42</td>\n",
       "      <td>20.38</td>\n",
       "      <td>77.58</td>\n",
       "      <td>386.1</td>\n",
       "      <td>0.14250</td>\n",
       "      <td>0.28390</td>\n",
       "      <td>0.2414</td>\n",
       "      <td>0.10520</td>\n",
       "      <td>...</td>\n",
       "      <td>14.91</td>\n",
       "      <td>26.50</td>\n",
       "      <td>98.87</td>\n",
       "      <td>567.7</td>\n",
       "      <td>0.2098</td>\n",
       "      <td>0.8663</td>\n",
       "      <td>0.6869</td>\n",
       "      <td>0.2575</td>\n",
       "      <td>0.6638</td>\n",
       "      <td>0.17300</td>\n",
       "    </tr>\n",
       "    <tr>\n",
       "      <th>4</th>\n",
       "      <td>84358402</td>\n",
       "      <td>M</td>\n",
       "      <td>20.29</td>\n",
       "      <td>14.34</td>\n",
       "      <td>135.10</td>\n",
       "      <td>1297.0</td>\n",
       "      <td>0.10030</td>\n",
       "      <td>0.13280</td>\n",
       "      <td>0.1980</td>\n",
       "      <td>0.10430</td>\n",
       "      <td>...</td>\n",
       "      <td>22.54</td>\n",
       "      <td>16.67</td>\n",
       "      <td>152.20</td>\n",
       "      <td>1575.0</td>\n",
       "      <td>0.1374</td>\n",
       "      <td>0.2050</td>\n",
       "      <td>0.4000</td>\n",
       "      <td>0.1625</td>\n",
       "      <td>0.2364</td>\n",
       "      <td>0.07678</td>\n",
       "    </tr>\n",
       "  </tbody>\n",
       "</table>\n",
       "<p>5 rows × 32 columns</p>\n",
       "</div>"
      ],
      "text/plain": [
       "         id diagnosis  radius_mean  texture_mean  perimeter_mean  area_mean  \\\n",
       "0    842302         M        17.99         10.38          122.80     1001.0   \n",
       "1    842517         M        20.57         17.77          132.90     1326.0   \n",
       "2  84300903         M        19.69         21.25          130.00     1203.0   \n",
       "3  84348301         M        11.42         20.38           77.58      386.1   \n",
       "4  84358402         M        20.29         14.34          135.10     1297.0   \n",
       "\n",
       "   smoothness_mean  compactness_mean  concavity_mean  concave_points_mean  \\\n",
       "0          0.11840           0.27760          0.3001              0.14710   \n",
       "1          0.08474           0.07864          0.0869              0.07017   \n",
       "2          0.10960           0.15990          0.1974              0.12790   \n",
       "3          0.14250           0.28390          0.2414              0.10520   \n",
       "4          0.10030           0.13280          0.1980              0.10430   \n",
       "\n",
       "   ...  radius_worst  texture_worst  perimeter_worst  area_worst  \\\n",
       "0  ...         25.38          17.33           184.60      2019.0   \n",
       "1  ...         24.99          23.41           158.80      1956.0   \n",
       "2  ...         23.57          25.53           152.50      1709.0   \n",
       "3  ...         14.91          26.50            98.87       567.7   \n",
       "4  ...         22.54          16.67           152.20      1575.0   \n",
       "\n",
       "   smoothness_worst  compactness_worst  concavity_worst  concave_points_worst  \\\n",
       "0            0.1622             0.6656           0.7119                0.2654   \n",
       "1            0.1238             0.1866           0.2416                0.1860   \n",
       "2            0.1444             0.4245           0.4504                0.2430   \n",
       "3            0.2098             0.8663           0.6869                0.2575   \n",
       "4            0.1374             0.2050           0.4000                0.1625   \n",
       "\n",
       "   symmetry_worst  fractal_dimension_worst  \n",
       "0          0.4601                  0.11890  \n",
       "1          0.2750                  0.08902  \n",
       "2          0.3613                  0.08758  \n",
       "3          0.6638                  0.17300  \n",
       "4          0.2364                  0.07678  \n",
       "\n",
       "[5 rows x 32 columns]"
      ]
     },
     "execution_count": 28,
     "metadata": {},
     "output_type": "execute_result"
    }
   ],
   "source": [
    "bc_winsconsin.head()"
   ]
  },
  {
   "cell_type": "markdown",
   "id": "fad4d459-be4e-444f-8b07-ad0b7aac2eff",
   "metadata": {},
   "source": [
    "**Types and Null Values**"
   ]
  },
  {
   "cell_type": "code",
   "execution_count": 29,
   "id": "e18fc3fb-18bf-42bc-9975-b438a9ddd19f",
   "metadata": {
    "tags": []
   },
   "outputs": [
    {
     "name": "stdout",
     "output_type": "stream",
     "text": [
      "<class 'pandas.core.frame.DataFrame'>\n",
      "RangeIndex: 569 entries, 0 to 568\n",
      "Data columns (total 32 columns):\n",
      " #   Column                   Non-Null Count  Dtype  \n",
      "---  ------                   --------------  -----  \n",
      " 0   id                       569 non-null    int64  \n",
      " 1   diagnosis                569 non-null    object \n",
      " 2   radius_mean              569 non-null    float64\n",
      " 3   texture_mean             569 non-null    float64\n",
      " 4   perimeter_mean           569 non-null    float64\n",
      " 5   area_mean                569 non-null    float64\n",
      " 6   smoothness_mean          569 non-null    float64\n",
      " 7   compactness_mean         569 non-null    float64\n",
      " 8   concavity_mean           569 non-null    float64\n",
      " 9   concave_points_mean      569 non-null    float64\n",
      " 10  symmetry_mean            569 non-null    float64\n",
      " 11  fractal_dimension_mean   569 non-null    float64\n",
      " 12  radius_se                569 non-null    float64\n",
      " 13  texture_se               569 non-null    float64\n",
      " 14  perimeter_se             569 non-null    float64\n",
      " 15  area_se                  569 non-null    float64\n",
      " 16  smoothness_se            569 non-null    float64\n",
      " 17  compactness_se           569 non-null    float64\n",
      " 18  concavity_se             569 non-null    float64\n",
      " 19  concave_points_se        569 non-null    float64\n",
      " 20  symmetry_se              569 non-null    float64\n",
      " 21  fractal_dimension_se     569 non-null    float64\n",
      " 22  radius_worst             569 non-null    float64\n",
      " 23  texture_worst            569 non-null    float64\n",
      " 24  perimeter_worst          569 non-null    float64\n",
      " 25  area_worst               569 non-null    float64\n",
      " 26  smoothness_worst         569 non-null    float64\n",
      " 27  compactness_worst        569 non-null    float64\n",
      " 28  concavity_worst          569 non-null    float64\n",
      " 29  concave_points_worst     569 non-null    float64\n",
      " 30  symmetry_worst           569 non-null    float64\n",
      " 31  fractal_dimension_worst  569 non-null    float64\n",
      "dtypes: float64(30), int64(1), object(1)\n",
      "memory usage: 142.4+ KB\n"
     ]
    }
   ],
   "source": [
    "# Let's check types and null values\n",
    "\n",
    "bc_winsconsin.info()"
   ]
  },
  {
   "cell_type": "markdown",
   "id": "10638486-f80a-401a-98f4-a1e1bfad8189",
   "metadata": {},
   "source": [
    "There are no missing values. All columns are numeric, which is great - the table looks terrific!"
   ]
  },
  {
   "cell_type": "markdown",
   "id": "e1922a5c-30a4-45ef-9ae3-d3efc84e2dbf",
   "metadata": {
    "tags": []
   },
   "source": [
    "**What is the target frequency**"
   ]
  },
  {
   "cell_type": "code",
   "execution_count": 30,
   "id": "de3a58a9-a272-4dcd-b9c2-c4f155b74f9f",
   "metadata": {
    "tags": []
   },
   "outputs": [
    {
     "data": {
      "text/plain": [
       "array(['M', 'B'], dtype=object)"
      ]
     },
     "execution_count": 30,
     "metadata": {},
     "output_type": "execute_result"
    }
   ],
   "source": [
    "# Let's transform object type \"diagnosis\" to numerical type: 0 - benign; 1 - malignant, as this is our target variable which we will predict.\n",
    "\n",
    "bc_winsconsin.diagnosis.unique()"
   ]
  },
  {
   "cell_type": "code",
   "execution_count": 31,
   "id": "1d2ab550-0d10-4853-8697-d284a1a59c49",
   "metadata": {
    "tags": []
   },
   "outputs": [
    {
     "data": {
      "text/html": [
       "<div>\n",
       "<style scoped>\n",
       "    .dataframe tbody tr th:only-of-type {\n",
       "        vertical-align: middle;\n",
       "    }\n",
       "\n",
       "    .dataframe tbody tr th {\n",
       "        vertical-align: top;\n",
       "    }\n",
       "\n",
       "    .dataframe thead th {\n",
       "        text-align: right;\n",
       "    }\n",
       "</style>\n",
       "<table border=\"1\" class=\"dataframe\">\n",
       "  <thead>\n",
       "    <tr style=\"text-align: right;\">\n",
       "      <th></th>\n",
       "      <th>id</th>\n",
       "      <th>diagnosis</th>\n",
       "      <th>radius_mean</th>\n",
       "      <th>texture_mean</th>\n",
       "      <th>perimeter_mean</th>\n",
       "      <th>area_mean</th>\n",
       "      <th>smoothness_mean</th>\n",
       "      <th>compactness_mean</th>\n",
       "      <th>concavity_mean</th>\n",
       "      <th>concave_points_mean</th>\n",
       "      <th>...</th>\n",
       "      <th>radius_worst</th>\n",
       "      <th>texture_worst</th>\n",
       "      <th>perimeter_worst</th>\n",
       "      <th>area_worst</th>\n",
       "      <th>smoothness_worst</th>\n",
       "      <th>compactness_worst</th>\n",
       "      <th>concavity_worst</th>\n",
       "      <th>concave_points_worst</th>\n",
       "      <th>symmetry_worst</th>\n",
       "      <th>fractal_dimension_worst</th>\n",
       "    </tr>\n",
       "  </thead>\n",
       "  <tbody>\n",
       "    <tr>\n",
       "      <th>0</th>\n",
       "      <td>842302</td>\n",
       "      <td>1</td>\n",
       "      <td>17.99</td>\n",
       "      <td>10.38</td>\n",
       "      <td>122.80</td>\n",
       "      <td>1001.0</td>\n",
       "      <td>0.11840</td>\n",
       "      <td>0.27760</td>\n",
       "      <td>0.3001</td>\n",
       "      <td>0.14710</td>\n",
       "      <td>...</td>\n",
       "      <td>25.38</td>\n",
       "      <td>17.33</td>\n",
       "      <td>184.60</td>\n",
       "      <td>2019.0</td>\n",
       "      <td>0.1622</td>\n",
       "      <td>0.6656</td>\n",
       "      <td>0.7119</td>\n",
       "      <td>0.2654</td>\n",
       "      <td>0.4601</td>\n",
       "      <td>0.11890</td>\n",
       "    </tr>\n",
       "    <tr>\n",
       "      <th>1</th>\n",
       "      <td>842517</td>\n",
       "      <td>1</td>\n",
       "      <td>20.57</td>\n",
       "      <td>17.77</td>\n",
       "      <td>132.90</td>\n",
       "      <td>1326.0</td>\n",
       "      <td>0.08474</td>\n",
       "      <td>0.07864</td>\n",
       "      <td>0.0869</td>\n",
       "      <td>0.07017</td>\n",
       "      <td>...</td>\n",
       "      <td>24.99</td>\n",
       "      <td>23.41</td>\n",
       "      <td>158.80</td>\n",
       "      <td>1956.0</td>\n",
       "      <td>0.1238</td>\n",
       "      <td>0.1866</td>\n",
       "      <td>0.2416</td>\n",
       "      <td>0.1860</td>\n",
       "      <td>0.2750</td>\n",
       "      <td>0.08902</td>\n",
       "    </tr>\n",
       "    <tr>\n",
       "      <th>2</th>\n",
       "      <td>84300903</td>\n",
       "      <td>1</td>\n",
       "      <td>19.69</td>\n",
       "      <td>21.25</td>\n",
       "      <td>130.00</td>\n",
       "      <td>1203.0</td>\n",
       "      <td>0.10960</td>\n",
       "      <td>0.15990</td>\n",
       "      <td>0.1974</td>\n",
       "      <td>0.12790</td>\n",
       "      <td>...</td>\n",
       "      <td>23.57</td>\n",
       "      <td>25.53</td>\n",
       "      <td>152.50</td>\n",
       "      <td>1709.0</td>\n",
       "      <td>0.1444</td>\n",
       "      <td>0.4245</td>\n",
       "      <td>0.4504</td>\n",
       "      <td>0.2430</td>\n",
       "      <td>0.3613</td>\n",
       "      <td>0.08758</td>\n",
       "    </tr>\n",
       "    <tr>\n",
       "      <th>3</th>\n",
       "      <td>84348301</td>\n",
       "      <td>1</td>\n",
       "      <td>11.42</td>\n",
       "      <td>20.38</td>\n",
       "      <td>77.58</td>\n",
       "      <td>386.1</td>\n",
       "      <td>0.14250</td>\n",
       "      <td>0.28390</td>\n",
       "      <td>0.2414</td>\n",
       "      <td>0.10520</td>\n",
       "      <td>...</td>\n",
       "      <td>14.91</td>\n",
       "      <td>26.50</td>\n",
       "      <td>98.87</td>\n",
       "      <td>567.7</td>\n",
       "      <td>0.2098</td>\n",
       "      <td>0.8663</td>\n",
       "      <td>0.6869</td>\n",
       "      <td>0.2575</td>\n",
       "      <td>0.6638</td>\n",
       "      <td>0.17300</td>\n",
       "    </tr>\n",
       "    <tr>\n",
       "      <th>4</th>\n",
       "      <td>84358402</td>\n",
       "      <td>1</td>\n",
       "      <td>20.29</td>\n",
       "      <td>14.34</td>\n",
       "      <td>135.10</td>\n",
       "      <td>1297.0</td>\n",
       "      <td>0.10030</td>\n",
       "      <td>0.13280</td>\n",
       "      <td>0.1980</td>\n",
       "      <td>0.10430</td>\n",
       "      <td>...</td>\n",
       "      <td>22.54</td>\n",
       "      <td>16.67</td>\n",
       "      <td>152.20</td>\n",
       "      <td>1575.0</td>\n",
       "      <td>0.1374</td>\n",
       "      <td>0.2050</td>\n",
       "      <td>0.4000</td>\n",
       "      <td>0.1625</td>\n",
       "      <td>0.2364</td>\n",
       "      <td>0.07678</td>\n",
       "    </tr>\n",
       "  </tbody>\n",
       "</table>\n",
       "<p>5 rows × 32 columns</p>\n",
       "</div>"
      ],
      "text/plain": [
       "         id  diagnosis  radius_mean  texture_mean  perimeter_mean  area_mean  \\\n",
       "0    842302          1        17.99         10.38          122.80     1001.0   \n",
       "1    842517          1        20.57         17.77          132.90     1326.0   \n",
       "2  84300903          1        19.69         21.25          130.00     1203.0   \n",
       "3  84348301          1        11.42         20.38           77.58      386.1   \n",
       "4  84358402          1        20.29         14.34          135.10     1297.0   \n",
       "\n",
       "   smoothness_mean  compactness_mean  concavity_mean  concave_points_mean  \\\n",
       "0          0.11840           0.27760          0.3001              0.14710   \n",
       "1          0.08474           0.07864          0.0869              0.07017   \n",
       "2          0.10960           0.15990          0.1974              0.12790   \n",
       "3          0.14250           0.28390          0.2414              0.10520   \n",
       "4          0.10030           0.13280          0.1980              0.10430   \n",
       "\n",
       "   ...  radius_worst  texture_worst  perimeter_worst  area_worst  \\\n",
       "0  ...         25.38          17.33           184.60      2019.0   \n",
       "1  ...         24.99          23.41           158.80      1956.0   \n",
       "2  ...         23.57          25.53           152.50      1709.0   \n",
       "3  ...         14.91          26.50            98.87       567.7   \n",
       "4  ...         22.54          16.67           152.20      1575.0   \n",
       "\n",
       "   smoothness_worst  compactness_worst  concavity_worst  concave_points_worst  \\\n",
       "0            0.1622             0.6656           0.7119                0.2654   \n",
       "1            0.1238             0.1866           0.2416                0.1860   \n",
       "2            0.1444             0.4245           0.4504                0.2430   \n",
       "3            0.2098             0.8663           0.6869                0.2575   \n",
       "4            0.1374             0.2050           0.4000                0.1625   \n",
       "\n",
       "   symmetry_worst  fractal_dimension_worst  \n",
       "0          0.4601                  0.11890  \n",
       "1          0.2750                  0.08902  \n",
       "2          0.3613                  0.08758  \n",
       "3          0.6638                  0.17300  \n",
       "4          0.2364                  0.07678  \n",
       "\n",
       "[5 rows x 32 columns]"
      ]
     },
     "execution_count": 31,
     "metadata": {},
     "output_type": "execute_result"
    }
   ],
   "source": [
    "dic_diagnosis = {\"B\": 0, \"M\": 1}\n",
    "bc_winsconsin[\"diagnosis\"] = bc_winsconsin[\"diagnosis\"].map(dic_diagnosis)\n",
    "bc_winsconsin.head()"
   ]
  },
  {
   "cell_type": "code",
   "execution_count": 32,
   "id": "3ef3f74f-61e0-4e85-ab0a-8326d1826647",
   "metadata": {},
   "outputs": [
    {
     "name": "stdout",
     "output_type": "stream",
     "text": [
      "Cases of benign are:  357 , which is  63%\n",
      "Cases of malignant are:  212 , which is  37%\n"
     ]
    }
   ],
   "source": [
    "all = bc_winsconsin.diagnosis.count()\n",
    "all_malignants = bc_winsconsin.diagnosis.sum()\n",
    "all_benigns = all - all_malignants\n",
    "\n",
    "print(\"Cases of benign are: \", all_benigns, \", which is \", '{:.0%}'.format(all_benigns / all))\n",
    "\n",
    "print(\"Cases of malignant are: \", all_malignants, \", which is \", '{:.0%}'.format(all_malignants / all))"
   ]
  },
  {
   "cell_type": "code",
   "execution_count": 33,
   "id": "dc103531-85a7-4516-8647-68fc8d8db1b2",
   "metadata": {
    "tags": []
   },
   "outputs": [
    {
     "data": {
      "image/png": "[encoded data removed]",
      "text/plain": [
       "<Figure size 640x480 with 1 Axes>"
      ]
     },
     "metadata": {},
     "output_type": "display_data"
    }
   ],
   "source": [
    "# Visualizing frequency of diagnosis\n",
    "\n",
    "diagnosis_counts = bc_winsconsin.groupby([\"diagnosis\"]).size().sort_values(ascending = False)\n",
    "\n",
    "plt.pie(diagnosis_counts \n",
    "        , labels = [\"Benign\", \"Malignant\"]\n",
    "        , autopct='%1.0f%%'\n",
    "       )\n",
    "\n",
    "plt.title(\"Diagnosis Frequency\")\n",
    "plt.gca().set_aspect(\"equal\")\n",
    "plt.show()"
   ]
  },
  {
   "cell_type": "markdown",
   "id": "62c0d4a7-fdcd-4906-984a-ceb559529e91",
   "metadata": {},
   "source": [
    "**What columns' stats could tell**"
   ]
  },
  {
   "cell_type": "code",
   "execution_count": 34,
   "id": "446b9a13-525f-45ab-9aa0-bb141155baff",
   "metadata": {
    "tags": []
   },
   "outputs": [
    {
     "data": {
      "text/html": [
       "<div>\n",
       "<style scoped>\n",
       "    .dataframe tbody tr th:only-of-type {\n",
       "        vertical-align: middle;\n",
       "    }\n",
       "\n",
       "    .dataframe tbody tr th {\n",
       "        vertical-align: top;\n",
       "    }\n",
       "\n",
       "    .dataframe thead th {\n",
       "        text-align: right;\n",
       "    }\n",
       "</style>\n",
       "<table border=\"1\" class=\"dataframe\">\n",
       "  <thead>\n",
       "    <tr style=\"text-align: right;\">\n",
       "      <th></th>\n",
       "      <th>count</th>\n",
       "      <th>mean</th>\n",
       "      <th>std</th>\n",
       "      <th>min</th>\n",
       "      <th>25%</th>\n",
       "      <th>50%</th>\n",
       "      <th>75%</th>\n",
       "      <th>max</th>\n",
       "    </tr>\n",
       "  </thead>\n",
       "  <tbody>\n",
       "    <tr>\n",
       "      <th>id</th>\n",
       "      <td>569.0</td>\n",
       "      <td>3.037183e+07</td>\n",
       "      <td>1.250206e+08</td>\n",
       "      <td>8670.000000</td>\n",
       "      <td>869218.000000</td>\n",
       "      <td>906024.000000</td>\n",
       "      <td>8.813129e+06</td>\n",
       "      <td>9.113205e+08</td>\n",
       "    </tr>\n",
       "    <tr>\n",
       "      <th>diagnosis</th>\n",
       "      <td>569.0</td>\n",
       "      <td>3.725835e-01</td>\n",
       "      <td>4.839180e-01</td>\n",
       "      <td>0.000000</td>\n",
       "      <td>0.000000</td>\n",
       "      <td>0.000000</td>\n",
       "      <td>1.000000e+00</td>\n",
       "      <td>1.000000e+00</td>\n",
       "    </tr>\n",
       "    <tr>\n",
       "      <th>radius_mean</th>\n",
       "      <td>569.0</td>\n",
       "      <td>1.412729e+01</td>\n",
       "      <td>3.524049e+00</td>\n",
       "      <td>6.981000</td>\n",
       "      <td>11.700000</td>\n",
       "      <td>13.370000</td>\n",
       "      <td>1.578000e+01</td>\n",
       "      <td>2.811000e+01</td>\n",
       "    </tr>\n",
       "    <tr>\n",
       "      <th>texture_mean</th>\n",
       "      <td>569.0</td>\n",
       "      <td>1.928965e+01</td>\n",
       "      <td>4.301036e+00</td>\n",
       "      <td>9.710000</td>\n",
       "      <td>16.170000</td>\n",
       "      <td>18.840000</td>\n",
       "      <td>2.180000e+01</td>\n",
       "      <td>3.928000e+01</td>\n",
       "    </tr>\n",
       "    <tr>\n",
       "      <th>perimeter_mean</th>\n",
       "      <td>569.0</td>\n",
       "      <td>9.196903e+01</td>\n",
       "      <td>2.429898e+01</td>\n",
       "      <td>43.790000</td>\n",
       "      <td>75.170000</td>\n",
       "      <td>86.240000</td>\n",
       "      <td>1.041000e+02</td>\n",
       "      <td>1.885000e+02</td>\n",
       "    </tr>\n",
       "    <tr>\n",
       "      <th>area_mean</th>\n",
       "      <td>569.0</td>\n",
       "      <td>6.548891e+02</td>\n",
       "      <td>3.519141e+02</td>\n",
       "      <td>143.500000</td>\n",
       "      <td>420.300000</td>\n",
       "      <td>551.100000</td>\n",
       "      <td>7.827000e+02</td>\n",
       "      <td>2.501000e+03</td>\n",
       "    </tr>\n",
       "    <tr>\n",
       "      <th>smoothness_mean</th>\n",
       "      <td>569.0</td>\n",
       "      <td>9.636028e-02</td>\n",
       "      <td>1.406413e-02</td>\n",
       "      <td>0.052630</td>\n",
       "      <td>0.086370</td>\n",
       "      <td>0.095870</td>\n",
       "      <td>1.053000e-01</td>\n",
       "      <td>1.634000e-01</td>\n",
       "    </tr>\n",
       "    <tr>\n",
       "      <th>compactness_mean</th>\n",
       "      <td>569.0</td>\n",
       "      <td>1.043410e-01</td>\n",
       "      <td>5.281276e-02</td>\n",
       "      <td>0.019380</td>\n",
       "      <td>0.064920</td>\n",
       "      <td>0.092630</td>\n",
       "      <td>1.304000e-01</td>\n",
       "      <td>3.454000e-01</td>\n",
       "    </tr>\n",
       "    <tr>\n",
       "      <th>concavity_mean</th>\n",
       "      <td>569.0</td>\n",
       "      <td>8.879932e-02</td>\n",
       "      <td>7.971981e-02</td>\n",
       "      <td>0.000000</td>\n",
       "      <td>0.029560</td>\n",
       "      <td>0.061540</td>\n",
       "      <td>1.307000e-01</td>\n",
       "      <td>4.268000e-01</td>\n",
       "    </tr>\n",
       "    <tr>\n",
       "      <th>concave_points_mean</th>\n",
       "      <td>569.0</td>\n",
       "      <td>4.891915e-02</td>\n",
       "      <td>3.880284e-02</td>\n",
       "      <td>0.000000</td>\n",
       "      <td>0.020310</td>\n",
       "      <td>0.033500</td>\n",
       "      <td>7.400000e-02</td>\n",
       "      <td>2.012000e-01</td>\n",
       "    </tr>\n",
       "    <tr>\n",
       "      <th>symmetry_mean</th>\n",
       "      <td>569.0</td>\n",
       "      <td>1.811619e-01</td>\n",
       "      <td>2.741428e-02</td>\n",
       "      <td>0.106000</td>\n",
       "      <td>0.161900</td>\n",
       "      <td>0.179200</td>\n",
       "      <td>1.957000e-01</td>\n",
       "      <td>3.040000e-01</td>\n",
       "    </tr>\n",
       "    <tr>\n",
       "      <th>fractal_dimension_mean</th>\n",
       "      <td>569.0</td>\n",
       "      <td>6.279761e-02</td>\n",
       "      <td>7.060363e-03</td>\n",
       "      <td>0.049960</td>\n",
       "      <td>0.057700</td>\n",
       "      <td>0.061540</td>\n",
       "      <td>6.612000e-02</td>\n",
       "      <td>9.744000e-02</td>\n",
       "    </tr>\n",
       "    <tr>\n",
       "      <th>radius_se</th>\n",
       "      <td>569.0</td>\n",
       "      <td>4.051721e-01</td>\n",
       "      <td>2.773127e-01</td>\n",
       "      <td>0.111500</td>\n",
       "      <td>0.232400</td>\n",
       "      <td>0.324200</td>\n",
       "      <td>4.789000e-01</td>\n",
       "      <td>2.873000e+00</td>\n",
       "    </tr>\n",
       "    <tr>\n",
       "      <th>texture_se</th>\n",
       "      <td>569.0</td>\n",
       "      <td>1.216853e+00</td>\n",
       "      <td>5.516484e-01</td>\n",
       "      <td>0.360200</td>\n",
       "      <td>0.833900</td>\n",
       "      <td>1.108000</td>\n",
       "      <td>1.474000e+00</td>\n",
       "      <td>4.885000e+00</td>\n",
       "    </tr>\n",
       "    <tr>\n",
       "      <th>perimeter_se</th>\n",
       "      <td>569.0</td>\n",
       "      <td>2.866059e+00</td>\n",
       "      <td>2.021855e+00</td>\n",
       "      <td>0.757000</td>\n",
       "      <td>1.606000</td>\n",
       "      <td>2.287000</td>\n",
       "      <td>3.357000e+00</td>\n",
       "      <td>2.198000e+01</td>\n",
       "    </tr>\n",
       "    <tr>\n",
       "      <th>area_se</th>\n",
       "      <td>569.0</td>\n",
       "      <td>4.033708e+01</td>\n",
       "      <td>4.549101e+01</td>\n",
       "      <td>6.802000</td>\n",
       "      <td>17.850000</td>\n",
       "      <td>24.530000</td>\n",
       "      <td>4.519000e+01</td>\n",
       "      <td>5.422000e+02</td>\n",
       "    </tr>\n",
       "    <tr>\n",
       "      <th>smoothness_se</th>\n",
       "      <td>569.0</td>\n",
       "      <td>7.040979e-03</td>\n",
       "      <td>3.002518e-03</td>\n",
       "      <td>0.001713</td>\n",
       "      <td>0.005169</td>\n",
       "      <td>0.006380</td>\n",
       "      <td>8.146000e-03</td>\n",
       "      <td>3.113000e-02</td>\n",
       "    </tr>\n",
       "    <tr>\n",
       "      <th>compactness_se</th>\n",
       "      <td>569.0</td>\n",
       "      <td>2.547814e-02</td>\n",
       "      <td>1.790818e-02</td>\n",
       "      <td>0.002252</td>\n",
       "      <td>0.013080</td>\n",
       "      <td>0.020450</td>\n",
       "      <td>3.245000e-02</td>\n",
       "      <td>1.354000e-01</td>\n",
       "    </tr>\n",
       "    <tr>\n",
       "      <th>concavity_se</th>\n",
       "      <td>569.0</td>\n",
       "      <td>3.189372e-02</td>\n",
       "      <td>3.018606e-02</td>\n",
       "      <td>0.000000</td>\n",
       "      <td>0.015090</td>\n",
       "      <td>0.025890</td>\n",
       "      <td>4.205000e-02</td>\n",
       "      <td>3.960000e-01</td>\n",
       "    </tr>\n",
       "    <tr>\n",
       "      <th>concave_points_se</th>\n",
       "      <td>569.0</td>\n",
       "      <td>1.179614e-02</td>\n",
       "      <td>6.170285e-03</td>\n",
       "      <td>0.000000</td>\n",
       "      <td>0.007638</td>\n",
       "      <td>0.010930</td>\n",
       "      <td>1.471000e-02</td>\n",
       "      <td>5.279000e-02</td>\n",
       "    </tr>\n",
       "    <tr>\n",
       "      <th>symmetry_se</th>\n",
       "      <td>569.0</td>\n",
       "      <td>2.054230e-02</td>\n",
       "      <td>8.266372e-03</td>\n",
       "      <td>0.007882</td>\n",
       "      <td>0.015160</td>\n",
       "      <td>0.018730</td>\n",
       "      <td>2.348000e-02</td>\n",
       "      <td>7.895000e-02</td>\n",
       "    </tr>\n",
       "    <tr>\n",
       "      <th>fractal_dimension_se</th>\n",
       "      <td>569.0</td>\n",
       "      <td>3.794904e-03</td>\n",
       "      <td>2.646071e-03</td>\n",
       "      <td>0.000895</td>\n",
       "      <td>0.002248</td>\n",
       "      <td>0.003187</td>\n",
       "      <td>4.558000e-03</td>\n",
       "      <td>2.984000e-02</td>\n",
       "    </tr>\n",
       "    <tr>\n",
       "      <th>radius_worst</th>\n",
       "      <td>569.0</td>\n",
       "      <td>1.626919e+01</td>\n",
       "      <td>4.833242e+00</td>\n",
       "      <td>7.930000</td>\n",
       "      <td>13.010000</td>\n",
       "      <td>14.970000</td>\n",
       "      <td>1.879000e+01</td>\n",
       "      <td>3.604000e+01</td>\n",
       "    </tr>\n",
       "    <tr>\n",
       "      <th>texture_worst</th>\n",
       "      <td>569.0</td>\n",
       "      <td>2.567722e+01</td>\n",
       "      <td>6.146258e+00</td>\n",
       "      <td>12.020000</td>\n",
       "      <td>21.080000</td>\n",
       "      <td>25.410000</td>\n",
       "      <td>2.972000e+01</td>\n",
       "      <td>4.954000e+01</td>\n",
       "    </tr>\n",
       "    <tr>\n",
       "      <th>perimeter_worst</th>\n",
       "      <td>569.0</td>\n",
       "      <td>1.072612e+02</td>\n",
       "      <td>3.360254e+01</td>\n",
       "      <td>50.410000</td>\n",
       "      <td>84.110000</td>\n",
       "      <td>97.660000</td>\n",
       "      <td>1.254000e+02</td>\n",
       "      <td>2.512000e+02</td>\n",
       "    </tr>\n",
       "    <tr>\n",
       "      <th>area_worst</th>\n",
       "      <td>569.0</td>\n",
       "      <td>8.805831e+02</td>\n",
       "      <td>5.693570e+02</td>\n",
       "      <td>185.200000</td>\n",
       "      <td>515.300000</td>\n",
       "      <td>686.500000</td>\n",
       "      <td>1.084000e+03</td>\n",
       "      <td>4.254000e+03</td>\n",
       "    </tr>\n",
       "    <tr>\n",
       "      <th>smoothness_worst</th>\n",
       "      <td>569.0</td>\n",
       "      <td>1.323686e-01</td>\n",
       "      <td>2.283243e-02</td>\n",
       "      <td>0.071170</td>\n",
       "      <td>0.116600</td>\n",
       "      <td>0.131300</td>\n",
       "      <td>1.460000e-01</td>\n",
       "      <td>2.226000e-01</td>\n",
       "    </tr>\n",
       "    <tr>\n",
       "      <th>compactness_worst</th>\n",
       "      <td>569.0</td>\n",
       "      <td>2.542650e-01</td>\n",
       "      <td>1.573365e-01</td>\n",
       "      <td>0.027290</td>\n",
       "      <td>0.147200</td>\n",
       "      <td>0.211900</td>\n",
       "      <td>3.391000e-01</td>\n",
       "      <td>1.058000e+00</td>\n",
       "    </tr>\n",
       "    <tr>\n",
       "      <th>concavity_worst</th>\n",
       "      <td>569.0</td>\n",
       "      <td>2.721885e-01</td>\n",
       "      <td>2.086243e-01</td>\n",
       "      <td>0.000000</td>\n",
       "      <td>0.114500</td>\n",
       "      <td>0.226700</td>\n",
       "      <td>3.829000e-01</td>\n",
       "      <td>1.252000e+00</td>\n",
       "    </tr>\n",
       "    <tr>\n",
       "      <th>concave_points_worst</th>\n",
       "      <td>569.0</td>\n",
       "      <td>1.146062e-01</td>\n",
       "      <td>6.573234e-02</td>\n",
       "      <td>0.000000</td>\n",
       "      <td>0.064930</td>\n",
       "      <td>0.099930</td>\n",
       "      <td>1.614000e-01</td>\n",
       "      <td>2.910000e-01</td>\n",
       "    </tr>\n",
       "    <tr>\n",
       "      <th>symmetry_worst</th>\n",
       "      <td>569.0</td>\n",
       "      <td>2.900756e-01</td>\n",
       "      <td>6.186747e-02</td>\n",
       "      <td>0.156500</td>\n",
       "      <td>0.250400</td>\n",
       "      <td>0.282200</td>\n",
       "      <td>3.179000e-01</td>\n",
       "      <td>6.638000e-01</td>\n",
       "    </tr>\n",
       "    <tr>\n",
       "      <th>fractal_dimension_worst</th>\n",
       "      <td>569.0</td>\n",
       "      <td>8.394582e-02</td>\n",
       "      <td>1.806127e-02</td>\n",
       "      <td>0.055040</td>\n",
       "      <td>0.071460</td>\n",
       "      <td>0.080040</td>\n",
       "      <td>9.208000e-02</td>\n",
       "      <td>2.075000e-01</td>\n",
       "    </tr>\n",
       "  </tbody>\n",
       "</table>\n",
       "</div>"
      ],
      "text/plain": [
       "                         count          mean           std          min  \\\n",
       "id                       569.0  3.037183e+07  1.250206e+08  8670.000000   \n",
       "diagnosis                569.0  3.725835e-01  4.839180e-01     0.000000   \n",
       "radius_mean              569.0  1.412729e+01  3.524049e+00     6.981000   \n",
       "texture_mean             569.0  1.928965e+01  4.301036e+00     9.710000   \n",
       "perimeter_mean           569.0  9.196903e+01  2.429898e+01    43.790000   \n",
       "area_mean                569.0  6.548891e+02  3.519141e+02   143.500000   \n",
       "smoothness_mean          569.0  9.636028e-02  1.406413e-02     0.052630   \n",
       "compactness_mean         569.0  1.043410e-01  5.281276e-02     0.019380   \n",
       "concavity_mean           569.0  8.879932e-02  7.971981e-02     0.000000   \n",
       "concave_points_mean      569.0  4.891915e-02  3.880284e-02     0.000000   \n",
       "symmetry_mean            569.0  1.811619e-01  2.741428e-02     0.106000   \n",
       "fractal_dimension_mean   569.0  6.279761e-02  7.060363e-03     0.049960   \n",
       "radius_se                569.0  4.051721e-01  2.773127e-01     0.111500   \n",
       "texture_se               569.0  1.216853e+00  5.516484e-01     0.360200   \n",
       "perimeter_se             569.0  2.866059e+00  2.021855e+00     0.757000   \n",
       "area_se                  569.0  4.033708e+01  4.549101e+01     6.802000   \n",
       "smoothness_se            569.0  7.040979e-03  3.002518e-03     0.001713   \n",
       "compactness_se           569.0  2.547814e-02  1.790818e-02     0.002252   \n",
       "concavity_se             569.0  3.189372e-02  3.018606e-02     0.000000   \n",
       "concave_points_se        569.0  1.179614e-02  6.170285e-03     0.000000   \n",
       "symmetry_se              569.0  2.054230e-02  8.266372e-03     0.007882   \n",
       "fractal_dimension_se     569.0  3.794904e-03  2.646071e-03     0.000895   \n",
       "radius_worst             569.0  1.626919e+01  4.833242e+00     7.930000   \n",
       "texture_worst            569.0  2.567722e+01  6.146258e+00    12.020000   \n",
       "perimeter_worst          569.0  1.072612e+02  3.360254e+01    50.410000   \n",
       "area_worst               569.0  8.805831e+02  5.693570e+02   185.200000   \n",
       "smoothness_worst         569.0  1.323686e-01  2.283243e-02     0.071170   \n",
       "compactness_worst        569.0  2.542650e-01  1.573365e-01     0.027290   \n",
       "concavity_worst          569.0  2.721885e-01  2.086243e-01     0.000000   \n",
       "concave_points_worst     569.0  1.146062e-01  6.573234e-02     0.000000   \n",
       "symmetry_worst           569.0  2.900756e-01  6.186747e-02     0.156500   \n",
       "fractal_dimension_worst  569.0  8.394582e-02  1.806127e-02     0.055040   \n",
       "\n",
       "                                   25%            50%           75%  \\\n",
       "id                       869218.000000  906024.000000  8.813129e+06   \n",
       "diagnosis                     0.000000       0.000000  1.000000e+00   \n",
       "radius_mean                  11.700000      13.370000  1.578000e+01   \n",
       "texture_mean                 16.170000      18.840000  2.180000e+01   \n",
       "perimeter_mean               75.170000      86.240000  1.041000e+02   \n",
       "area_mean                   420.300000     551.100000  7.827000e+02   \n",
       "smoothness_mean               0.086370       0.095870  1.053000e-01   \n",
       "compactness_mean              0.064920       0.092630  1.304000e-01   \n",
       "concavity_mean                0.029560       0.061540  1.307000e-01   \n",
       "concave_points_mean           0.020310       0.033500  7.400000e-02   \n",
       "symmetry_mean                 0.161900       0.179200  1.957000e-01   \n",
       "fractal_dimension_mean        0.057700       0.061540  6.612000e-02   \n",
       "radius_se                     0.232400       0.324200  4.789000e-01   \n",
       "texture_se                    0.833900       1.108000  1.474000e+00   \n",
       "perimeter_se                  1.606000       2.287000  3.357000e+00   \n",
       "area_se                      17.850000      24.530000  4.519000e+01   \n",
       "smoothness_se                 0.005169       0.006380  8.146000e-03   \n",
       "compactness_se                0.013080       0.020450  3.245000e-02   \n",
       "concavity_se                  0.015090       0.025890  4.205000e-02   \n",
       "concave_points_se             0.007638       0.010930  1.471000e-02   \n",
       "symmetry_se                   0.015160       0.018730  2.348000e-02   \n",
       "fractal_dimension_se          0.002248       0.003187  4.558000e-03   \n",
       "radius_worst                 13.010000      14.970000  1.879000e+01   \n",
       "texture_worst                21.080000      25.410000  2.972000e+01   \n",
       "perimeter_worst              84.110000      97.660000  1.254000e+02   \n",
       "area_worst                  515.300000     686.500000  1.084000e+03   \n",
       "smoothness_worst              0.116600       0.131300  1.460000e-01   \n",
       "compactness_worst             0.147200       0.211900  3.391000e-01   \n",
       "concavity_worst               0.114500       0.226700  3.829000e-01   \n",
       "concave_points_worst          0.064930       0.099930  1.614000e-01   \n",
       "symmetry_worst                0.250400       0.282200  3.179000e-01   \n",
       "fractal_dimension_worst       0.071460       0.080040  9.208000e-02   \n",
       "\n",
       "                                  max  \n",
       "id                       9.113205e+08  \n",
       "diagnosis                1.000000e+00  \n",
       "radius_mean              2.811000e+01  \n",
       "texture_mean             3.928000e+01  \n",
       "perimeter_mean           1.885000e+02  \n",
       "area_mean                2.501000e+03  \n",
       "smoothness_mean          1.634000e-01  \n",
       "compactness_mean         3.454000e-01  \n",
       "concavity_mean           4.268000e-01  \n",
       "concave_points_mean      2.012000e-01  \n",
       "symmetry_mean            3.040000e-01  \n",
       "fractal_dimension_mean   9.744000e-02  \n",
       "radius_se                2.873000e+00  \n",
       "texture_se               4.885000e+00  \n",
       "perimeter_se             2.198000e+01  \n",
       "area_se                  5.422000e+02  \n",
       "smoothness_se            3.113000e-02  \n",
       "compactness_se           1.354000e-01  \n",
       "concavity_se             3.960000e-01  \n",
       "concave_points_se        5.279000e-02  \n",
       "symmetry_se              7.895000e-02  \n",
       "fractal_dimension_se     2.984000e-02  \n",
       "radius_worst             3.604000e+01  \n",
       "texture_worst            4.954000e+01  \n",
       "perimeter_worst          2.512000e+02  \n",
       "area_worst               4.254000e+03  \n",
       "smoothness_worst         2.226000e-01  \n",
       "compactness_worst        1.058000e+00  \n",
       "concavity_worst          1.252000e+00  \n",
       "concave_points_worst     2.910000e-01  \n",
       "symmetry_worst           6.638000e-01  \n",
       "fractal_dimension_worst  2.075000e-01  "
      ]
     },
     "execution_count": 34,
     "metadata": {},
     "output_type": "execute_result"
    }
   ],
   "source": [
    "bc_winsconsin.describe().T"
   ]
  },
  {
   "cell_type": "markdown",
   "id": "dd0e397b-fd20-47fa-9be1-4950e6d2eab8",
   "metadata": {
    "tags": []
   },
   "source": [
    "**What is the distribution of the independent feature values**"
   ]
  },
  {
   "cell_type": "code",
   "execution_count": 35,
   "id": "eab1a516-2d2d-489f-8ac3-81d258172c9b",
   "metadata": {
    "tags": []
   },
   "outputs": [],
   "source": [
    "# Function to extract and visualize the feature distributions\n",
    "\n",
    "def show_distributions(dataset_name, f_name):\n",
    "    \"\"\"\n",
    "    This function shows distribution of features/ columns per diagnosis.\n",
    "    Parameter:\n",
    "     - dataset_name - the dataframe, where to be looked\n",
    "     - f_name - the column to be shown\n",
    "    \"\"\"\n",
    "    B = bc_winsconsin[bc_winsconsin.diagnosis == 0][f_name]\n",
    "    M = bc_winsconsin[bc_winsconsin.diagnosis == 1][f_name]\n",
    "    \n",
    "    plt.figure(figsize = (8, 2))\n",
    "    plt.hist(B, bins = \"fd\", alpha = 0.7, label = \"Benign\")\n",
    "    plt.hist(M, bins = \"fd\", alpha = 0.7, label = \"Malignant\")\n",
    "    \n",
    "    plt.title(f_name)\n",
    "    plt.legend()\n",
    "    plt.show()    "
   ]
  },
  {
   "cell_type": "code",
   "execution_count": 36,
   "id": "1ff03e02-abcb-4eb6-8bde-579d2155eb6d",
   "metadata": {
    "tags": []
   },
   "outputs": [
    {
     "data": {
      "image/png": "[encoded data removed]",
      "text/plain": [
       "<Figure size 800x200 with 1 Axes>"
      ]
     },
     "metadata": {},
     "output_type": "display_data"
    },
    {
     "data": {
      "image/png": "[encoded data removed]",
      "text/plain": [
       "<Figure size 800x200 with 1 Axes>"
      ]
     },
     "metadata": {},
     "output_type": "display_data"
    },
    {
     "data": {
      "image/png": "[encoded data removed]",
      "text/plain": [
       "<Figure size 800x200 with 1 Axes>"
      ]
     },
     "metadata": {},
     "output_type": "display_data"
    },
    {
     "data": {
      "image/png": "[encoded data removed]",
      "text/plain": [
       "<Figure size 800x200 with 1 Axes>"
      ]
     },
     "metadata": {},
     "output_type": "display_data"
    },
    {
     "data": {
      "image/png": "[encoded data removed]",
      "text/plain": [
       "<Figure size 800x200 with 1 Axes>"
      ]
     },
     "metadata": {},
     "output_type": "display_data"
    },
    {
     "data": {
      "image/png": "[encoded data removed]",
      "text/plain": [
       "<Figure size 800x200 with 1 Axes>"
      ]
     },
     "metadata": {},
     "output_type": "display_data"
    },
    {
     "data": {
      "image/png": "[encoded data removed]",
      "text/plain": [
       "<Figure size 800x200 with 1 Axes>"
      ]
     },
     "metadata": {},
     "output_type": "display_data"
    },
    {
     "data": {
      "image/png": "[encoded data removed]",
      "text/plain": [
       "<Figure size 800x200 with 1 Axes>"
      ]
     },
     "metadata": {},
     "output_type": "display_data"
    },
    {
     "data": {
      "image/png": "[encoded data removed]",
      "text/plain": [
       "<Figure size 800x200 with 1 Axes>"
      ]
     },
     "metadata": {},
     "output_type": "display_data"
    },
    {
     "data": {
      "image/png": "[encoded data removed]",
      "text/plain": [
       "<Figure size 800x200 with 1 Axes>"
      ]
     },
     "metadata": {},
     "output_type": "display_data"
    },
    {
     "data": {
      "image/png": "[encoded data removed]",
      "text/plain": [
       "<Figure size 800x200 with 1 Axes>"
      ]
     },
     "metadata": {},
     "output_type": "display_data"
    },
    {
     "data": {
      "image/png": "[encoded data removed]",
      "text/plain": [
       "<Figure size 800x200 with 1 Axes>"
      ]
     },
     "metadata": {},
     "output_type": "display_data"
    },
    {
     "data": {
      "image/png": "[encoded data removed]",
      "text/plain": [
       "<Figure size 800x200 with 1 Axes>"
      ]
     },
     "metadata": {},
     "output_type": "display_data"
    },
    {
     "data": {
      "image/png": "[encoded data removed]",
      "text/plain": [
       "<Figure size 800x200 with 1 Axes>"
      ]
     },
     "metadata": {},
     "output_type": "display_data"
    },
    {
     "data": {
      "image/png": "[encoded data removed]",
      "text/plain": [
       "<Figure size 800x200 with 1 Axes>"
      ]
     },
     "metadata": {},
     "output_type": "display_data"
    },
    {
     "data": {
      "image/png": "[encoded data removed]",
      "text/plain": [
       "<Figure size 800x200 with 1 Axes>"
      ]
     },
     "metadata": {},
     "output_type": "display_data"
    },
    {
     "data": {
      "image/png": "[encoded data removed]",
      "text/plain": [
       "<Figure size 800x200 with 1 Axes>"
      ]
     },
     "metadata": {},
     "output_type": "display_data"
    },
    {
     "data": {
      "image/png": "[encoded data removed]",
      "text/plain": [
       "<Figure size 800x200 with 1 Axes>"
      ]
     },
     "metadata": {},
     "output_type": "display_data"
    },
    {
     "data": {
      "image/png": "[encoded data removed]",
      "text/plain": [
       "<Figure size 800x200 with 1 Axes>"
      ]
     },
     "metadata": {},
     "output_type": "display_data"
    },
    {
     "data": {
      "image/png": "[encoded data removed]",
      "text/plain": [
       "<Figure size 800x200 with 1 Axes>"
      ]
     },
     "metadata": {},
     "output_type": "display_data"
    },
    {
     "data": {
      "image/png": "[encoded data removed]",
      "text/plain": [
       "<Figure size 800x200 with 1 Axes>"
      ]
     },
     "metadata": {},
     "output_type": "display_data"
    },
    {
     "data": {
      "image/png": "[encoded data removed]",
      "text/plain": [
       "<Figure size 800x200 with 1 Axes>"
      ]
     },
     "metadata": {},
     "output_type": "display_data"
    },
    {
     "data": {
      "image/png": "[encoded data removed]",
      "text/plain": [
       "<Figure size 800x200 with 1 Axes>"
      ]
     },
     "metadata": {},
     "output_type": "display_data"
    },
    {
     "data": {
      "image/png": "[encoded data removed]",
      "text/plain": [
       "<Figure size 800x200 with 1 Axes>"
      ]
     },
     "metadata": {},
     "output_type": "display_data"
    },
    {
     "data": {
      "image/png": "[encoded data removed]",
      "text/plain": [
       "<Figure size 800x200 with 1 Axes>"
      ]
     },
     "metadata": {},
     "output_type": "display_data"
    },
    {
     "data": {
      "image/png": "[encoded data removed]",
      "text/plain": [
       "<Figure size 800x200 with 1 Axes>"
      ]
     },
     "metadata": {},
     "output_type": "display_data"
    },
    {
     "data": {
      "image/png": "[encoded data removed]",
      "text/plain": [
       "<Figure size 800x200 with 1 Axes>"
      ]
     },
     "metadata": {},
     "output_type": "display_data"
    },
    {
     "data": {
      "image/png": "[encoded data removed]",
      "text/plain": [
       "<Figure size 800x200 with 1 Axes>"
      ]
     },
     "metadata": {},
     "output_type": "display_data"
    },
    {
     "data": {
      "image/png": "[encoded data removed]",
      "text/plain": [
       "<Figure size 800x200 with 1 Axes>"
      ]
     },
     "metadata": {},
     "output_type": "display_data"
    },
    {
     "data": {
      "image/png": "[encoded data removed]",
      "text/plain": [
       "<Figure size 800x200 with 1 Axes>"
      ]
     },
     "metadata": {},
     "output_type": "display_data"
    }
   ],
   "source": [
    "col_names_w_tidy = bc_winsconsin.drop([\"id\", \"diagnosis\"], axis = 1)\n",
    "\n",
    "for column in col_names_w_tidy:\n",
    "    show_distributions(bc_winsconsin, column)"
   ]
  },
  {
   "cell_type": "markdown",
   "id": "f7c0b3f3-1199-48b5-9b1a-f650af7e746c",
   "metadata": {
    "tags": []
   },
   "source": [
    "**How many of the features are strongly correlated**"
   ]
  },
  {
   "cell_type": "markdown",
   "id": "78150a3c-5576-4ea4-bd25-cec9236e3c76",
   "metadata": {},
   "source": [
    "Features with high correlation are more linearly dependent and hence have almost the same effect on the dependent variable. So, when two features have high correlation, we can drop one of the two features."
   ]
  },
  {
   "cell_type": "code",
   "execution_count": 37,
   "id": "0422ad10-5ff5-41d7-919f-692a4e3ae142",
   "metadata": {
    "tags": []
   },
   "outputs": [
    {
     "name": "stdout",
     "output_type": "stream",
     "text": [
      "Highly correlated columns are  12\n"
     ]
    }
   ],
   "source": [
    "# Calculating Pearson correlation between columns\n",
    "\n",
    "corr_table = bc_winsconsin.corr().unstack().sort_values().drop_duplicates()\n",
    "\n",
    "# Extract columns with higher than 0.9 correlation\n",
    "\n",
    "highly_corr_features = corr_table[corr_table > 0.9].index.get_level_values(0).to_list()\n",
    "\n",
    "#Removing duplicates\n",
    "\n",
    "highly_corr_features = list(set(highly_corr_features))\n",
    "print(\"Highly correlated columns are \", len(highly_corr_features))"
   ]
  },
  {
   "cell_type": "code",
   "execution_count": 38,
   "id": "a3dc2081-eca4-48a4-bc3e-8fbd198cf166",
   "metadata": {
    "tags": []
   },
   "outputs": [
    {
     "data": {
      "text/html": [
       "<div>\n",
       "<style scoped>\n",
       "    .dataframe tbody tr th:only-of-type {\n",
       "        vertical-align: middle;\n",
       "    }\n",
       "\n",
       "    .dataframe tbody tr th {\n",
       "        vertical-align: top;\n",
       "    }\n",
       "\n",
       "    .dataframe thead th {\n",
       "        text-align: right;\n",
       "    }\n",
       "</style>\n",
       "<table border=\"1\" class=\"dataframe\">\n",
       "  <thead>\n",
       "    <tr style=\"text-align: right;\">\n",
       "      <th></th>\n",
       "      <th>diagnosis</th>\n",
       "      <th>smoothness_mean</th>\n",
       "      <th>compactness_mean</th>\n",
       "      <th>symmetry_mean</th>\n",
       "      <th>fractal_dimension_mean</th>\n",
       "      <th>texture_se</th>\n",
       "      <th>perimeter_se</th>\n",
       "      <th>smoothness_se</th>\n",
       "      <th>compactness_se</th>\n",
       "      <th>concavity_se</th>\n",
       "      <th>concave_points_se</th>\n",
       "      <th>symmetry_se</th>\n",
       "      <th>fractal_dimension_se</th>\n",
       "      <th>texture_worst</th>\n",
       "      <th>smoothness_worst</th>\n",
       "      <th>compactness_worst</th>\n",
       "      <th>concavity_worst</th>\n",
       "      <th>concave_points_worst</th>\n",
       "      <th>symmetry_worst</th>\n",
       "      <th>fractal_dimension_worst</th>\n",
       "    </tr>\n",
       "  </thead>\n",
       "  <tbody>\n",
       "    <tr>\n",
       "      <th>0</th>\n",
       "      <td>1</td>\n",
       "      <td>0.11840</td>\n",
       "      <td>0.27760</td>\n",
       "      <td>0.2419</td>\n",
       "      <td>0.07871</td>\n",
       "      <td>0.9053</td>\n",
       "      <td>8.589</td>\n",
       "      <td>0.006399</td>\n",
       "      <td>0.04904</td>\n",
       "      <td>0.05373</td>\n",
       "      <td>0.01587</td>\n",
       "      <td>0.03003</td>\n",
       "      <td>0.006193</td>\n",
       "      <td>17.33</td>\n",
       "      <td>0.1622</td>\n",
       "      <td>0.6656</td>\n",
       "      <td>0.7119</td>\n",
       "      <td>0.2654</td>\n",
       "      <td>0.4601</td>\n",
       "      <td>0.11890</td>\n",
       "    </tr>\n",
       "    <tr>\n",
       "      <th>1</th>\n",
       "      <td>1</td>\n",
       "      <td>0.08474</td>\n",
       "      <td>0.07864</td>\n",
       "      <td>0.1812</td>\n",
       "      <td>0.05667</td>\n",
       "      <td>0.7339</td>\n",
       "      <td>3.398</td>\n",
       "      <td>0.005225</td>\n",
       "      <td>0.01308</td>\n",
       "      <td>0.01860</td>\n",
       "      <td>0.01340</td>\n",
       "      <td>0.01389</td>\n",
       "      <td>0.003532</td>\n",
       "      <td>23.41</td>\n",
       "      <td>0.1238</td>\n",
       "      <td>0.1866</td>\n",
       "      <td>0.2416</td>\n",
       "      <td>0.1860</td>\n",
       "      <td>0.2750</td>\n",
       "      <td>0.08902</td>\n",
       "    </tr>\n",
       "    <tr>\n",
       "      <th>2</th>\n",
       "      <td>1</td>\n",
       "      <td>0.10960</td>\n",
       "      <td>0.15990</td>\n",
       "      <td>0.2069</td>\n",
       "      <td>0.05999</td>\n",
       "      <td>0.7869</td>\n",
       "      <td>4.585</td>\n",
       "      <td>0.006150</td>\n",
       "      <td>0.04006</td>\n",
       "      <td>0.03832</td>\n",
       "      <td>0.02058</td>\n",
       "      <td>0.02250</td>\n",
       "      <td>0.004571</td>\n",
       "      <td>25.53</td>\n",
       "      <td>0.1444</td>\n",
       "      <td>0.4245</td>\n",
       "      <td>0.4504</td>\n",
       "      <td>0.2430</td>\n",
       "      <td>0.3613</td>\n",
       "      <td>0.08758</td>\n",
       "    </tr>\n",
       "    <tr>\n",
       "      <th>3</th>\n",
       "      <td>1</td>\n",
       "      <td>0.14250</td>\n",
       "      <td>0.28390</td>\n",
       "      <td>0.2597</td>\n",
       "      <td>0.09744</td>\n",
       "      <td>1.1560</td>\n",
       "      <td>3.445</td>\n",
       "      <td>0.009110</td>\n",
       "      <td>0.07458</td>\n",
       "      <td>0.05661</td>\n",
       "      <td>0.01867</td>\n",
       "      <td>0.05963</td>\n",
       "      <td>0.009208</td>\n",
       "      <td>26.50</td>\n",
       "      <td>0.2098</td>\n",
       "      <td>0.8663</td>\n",
       "      <td>0.6869</td>\n",
       "      <td>0.2575</td>\n",
       "      <td>0.6638</td>\n",
       "      <td>0.17300</td>\n",
       "    </tr>\n",
       "    <tr>\n",
       "      <th>4</th>\n",
       "      <td>1</td>\n",
       "      <td>0.10030</td>\n",
       "      <td>0.13280</td>\n",
       "      <td>0.1809</td>\n",
       "      <td>0.05883</td>\n",
       "      <td>0.7813</td>\n",
       "      <td>5.438</td>\n",
       "      <td>0.011490</td>\n",
       "      <td>0.02461</td>\n",
       "      <td>0.05688</td>\n",
       "      <td>0.01885</td>\n",
       "      <td>0.01756</td>\n",
       "      <td>0.005115</td>\n",
       "      <td>16.67</td>\n",
       "      <td>0.1374</td>\n",
       "      <td>0.2050</td>\n",
       "      <td>0.4000</td>\n",
       "      <td>0.1625</td>\n",
       "      <td>0.2364</td>\n",
       "      <td>0.07678</td>\n",
       "    </tr>\n",
       "  </tbody>\n",
       "</table>\n",
       "</div>"
      ],
      "text/plain": [
       "   diagnosis  smoothness_mean  compactness_mean  symmetry_mean  \\\n",
       "0          1          0.11840           0.27760         0.2419   \n",
       "1          1          0.08474           0.07864         0.1812   \n",
       "2          1          0.10960           0.15990         0.2069   \n",
       "3          1          0.14250           0.28390         0.2597   \n",
       "4          1          0.10030           0.13280         0.1809   \n",
       "\n",
       "   fractal_dimension_mean  texture_se  perimeter_se  smoothness_se  \\\n",
       "0                 0.07871      0.9053         8.589       0.006399   \n",
       "1                 0.05667      0.7339         3.398       0.005225   \n",
       "2                 0.05999      0.7869         4.585       0.006150   \n",
       "3                 0.09744      1.1560         3.445       0.009110   \n",
       "4                 0.05883      0.7813         5.438       0.011490   \n",
       "\n",
       "   compactness_se  concavity_se  concave_points_se  symmetry_se  \\\n",
       "0         0.04904       0.05373            0.01587      0.03003   \n",
       "1         0.01308       0.01860            0.01340      0.01389   \n",
       "2         0.04006       0.03832            0.02058      0.02250   \n",
       "3         0.07458       0.05661            0.01867      0.05963   \n",
       "4         0.02461       0.05688            0.01885      0.01756   \n",
       "\n",
       "   fractal_dimension_se  texture_worst  smoothness_worst  compactness_worst  \\\n",
       "0              0.006193          17.33            0.1622             0.6656   \n",
       "1              0.003532          23.41            0.1238             0.1866   \n",
       "2              0.004571          25.53            0.1444             0.4245   \n",
       "3              0.009208          26.50            0.2098             0.8663   \n",
       "4              0.005115          16.67            0.1374             0.2050   \n",
       "\n",
       "   concavity_worst  concave_points_worst  symmetry_worst  \\\n",
       "0           0.7119                0.2654          0.4601   \n",
       "1           0.2416                0.1860          0.2750   \n",
       "2           0.4504                0.2430          0.3613   \n",
       "3           0.6869                0.2575          0.6638   \n",
       "4           0.4000                0.1625          0.2364   \n",
       "\n",
       "   fractal_dimension_worst  \n",
       "0                  0.11890  \n",
       "1                  0.08902  \n",
       "2                  0.08758  \n",
       "3                  0.17300  \n",
       "4                  0.07678  "
      ]
     },
     "execution_count": 38,
     "metadata": {},
     "output_type": "execute_result"
    }
   ],
   "source": [
    "# Feature selection - 20 columns were left out of 32\n",
    "\n",
    "lin_indep_features = bc_winsconsin.drop(highly_corr_features, axis = 1)\n",
    "lin_indep_features.head()"
   ]
  },
  {
   "cell_type": "markdown",
   "id": "91be9385-d62d-42f6-a404-af346588c445",
   "metadata": {},
   "source": [
    "### Principal Component Analysis"
   ]
  },
  {
   "cell_type": "code",
   "execution_count": 39,
   "id": "a8622935-b376-4dec-839a-226611451d2f",
   "metadata": {
    "tags": []
   },
   "outputs": [
    {
     "data": {
      "text/plain": [
       "(32, 32)"
      ]
     },
     "execution_count": 39,
     "metadata": {},
     "output_type": "execute_result"
    }
   ],
   "source": [
    "pca = PCA()\n",
    "pca.fit(bc_winsconsin)\n",
    "\n",
    "t_matrix = pca.components_\n",
    "t_matrix.shape"
   ]
  },
  {
   "cell_type": "markdown",
   "id": "72bd427f-b767-463c-aa24-f0044ed3ecb6",
   "metadata": {},
   "source": [
    "We received a matrix 32 x 32. This is our T matrix. What we did is to change our basis. We multipy with lambda all variables to receive the new basis."
   ]
  },
  {
   "cell_type": "code",
   "execution_count": 40,
   "id": "88bfe517-b408-4135-b247-10559fd1c4a3",
   "metadata": {
    "tags": []
   },
   "outputs": [
    {
     "data": {
      "text/plain": [
       "array([ 1.53932217e-10,  5.35401985e-04, -2.27188067e-04, -1.68164316e-03,\n",
       "       -2.25443731e-02,  4.69509523e-03,  5.73921030e-03,  1.95092333e-02,\n",
       "        7.85115756e-03, -1.62760658e-01, -5.94561407e-01,  6.99414321e-01,\n",
       "       -3.57849576e-01,  1.48072351e-02,  7.72269862e-04, -2.79463287e-02,\n",
       "        7.87103597e-03,  2.14058953e-02,  1.25307403e-02,  3.48850111e-03,\n",
       "        2.02627899e-03,  4.09989053e-03,  4.65601036e-03, -4.08616426e-03,\n",
       "        2.96232153e-03, -4.42125852e-04,  2.21427561e-04, -7.41657009e-04,\n",
       "       -1.00325285e-03, -3.22204955e-04, -3.99090592e-04,  9.71252754e-05])"
      ]
     },
     "execution_count": 40,
     "metadata": {},
     "output_type": "execute_result"
    }
   ],
   "source": [
    "t_matrix[:, 1]"
   ]
  },
  {
   "cell_type": "code",
   "execution_count": 41,
   "id": "fd1daf7b-13c5-4e99-b9eb-26de9fc289ba",
   "metadata": {
    "tags": []
   },
   "outputs": [
    {
     "data": {
      "text/plain": [
       "array([1.00000000e+00, 2.80767974e-11, 4.67287346e-13, 4.38515079e-14,\n",
       "       3.49762899e-15, 2.52779078e-15, 1.92223783e-16, 1.15891183e-16,\n",
       "       2.34961145e-17, 1.00821182e-17, 5.72323853e-18, 4.88289927e-18,\n",
       "       1.54446571e-18, 4.77871167e-19, 2.02224720e-19, 1.35176011e-19,\n",
       "       8.46112966e-20, 3.90775100e-20, 2.33705414e-20, 1.50023153e-20,\n",
       "       1.17881198e-20, 1.04139236e-20, 4.89632538e-21, 3.62857103e-21,\n",
       "       2.20379283e-21, 1.81566585e-21, 1.03285970e-21, 7.97171089e-22,\n",
       "       2.29218339e-22, 1.81687487e-22, 1.27479077e-22, 4.48445497e-23])"
      ]
     },
     "execution_count": 41,
     "metadata": {},
     "output_type": "execute_result"
    }
   ],
   "source": [
    "changed_basis = pca.explained_variance_ratio_\n",
    "changed_basis"
   ]
  },
  {
   "cell_type": "code",
   "execution_count": 42,
   "id": "b6b7ece8-bccd-46d5-bfe7-825d8927ce5d",
   "metadata": {
    "tags": []
   },
   "outputs": [
    {
     "data": {
      "image/png": "[encoded data removed]",
      "text/plain": [
       "<Figure size 640x480 with 1 Axes>"
      ]
     },
     "metadata": {},
     "output_type": "display_data"
    }
   ],
   "source": [
    "plt.scatter(range(len(changed_basis)), changed_basis)\n",
    "# plt.xlim(0, 20)\n",
    "# plt.ylim(0, 1.1)\n",
    "plt.xlabel(\"n_T.col\")\n",
    "plt.ylabel(\"importance\")\n",
    "\n",
    "plt.show()"
   ]
  },
  {
   "cell_type": "markdown",
   "id": "aa3492d6-0588-4f82-8a06-f18ec1217052",
   "metadata": {},
   "source": [
    "Wow! It looks that first feature explains 100% of all information in our dataset. Let's reduce dimenstionality by cutting the features to 1."
   ]
  },
  {
   "cell_type": "code",
   "execution_count": 43,
   "id": "3a0c2876-e82b-42ae-a067-32d06550dccc",
   "metadata": {
    "tags": []
   },
   "outputs": [
    {
     "data": {
      "text/plain": [
       "(569, 1)"
      ]
     },
     "execution_count": 43,
     "metadata": {},
     "output_type": "execute_result"
    }
   ],
   "source": [
    "pca = PCA(1)\n",
    "pca.fit(bc_winsconsin)\n",
    "transformed_data = pca.transform(bc_winsconsin)\n",
    "transformed_data.shape"
   ]
  },
  {
   "cell_type": "code",
   "execution_count": 44,
   "id": "b3c1cb02-4a4d-4e4a-b2e5-72d83a1e631f",
   "metadata": {
    "tags": []
   },
   "outputs": [
    {
     "data": {
      "text/html": [
       "<div>\n",
       "<style scoped>\n",
       "    .dataframe tbody tr th:only-of-type {\n",
       "        vertical-align: middle;\n",
       "    }\n",
       "\n",
       "    .dataframe tbody tr th {\n",
       "        vertical-align: top;\n",
       "    }\n",
       "\n",
       "    .dataframe thead th {\n",
       "        text-align: right;\n",
       "    }\n",
       "</style>\n",
       "<table border=\"1\" class=\"dataframe\">\n",
       "  <thead>\n",
       "    <tr style=\"text-align: right;\">\n",
       "      <th></th>\n",
       "      <th>0</th>\n",
       "    </tr>\n",
       "  </thead>\n",
       "  <tbody>\n",
       "    <tr>\n",
       "      <th>0</th>\n",
       "      <td>-2.952953e+07</td>\n",
       "    </tr>\n",
       "    <tr>\n",
       "      <th>1</th>\n",
       "      <td>-2.952931e+07</td>\n",
       "    </tr>\n",
       "    <tr>\n",
       "      <th>2</th>\n",
       "      <td>5.392907e+07</td>\n",
       "    </tr>\n",
       "    <tr>\n",
       "      <th>3</th>\n",
       "      <td>5.397647e+07</td>\n",
       "    </tr>\n",
       "    <tr>\n",
       "      <th>4</th>\n",
       "      <td>5.398657e+07</td>\n",
       "    </tr>\n",
       "  </tbody>\n",
       "</table>\n",
       "</div>"
      ],
      "text/plain": [
       "              0\n",
       "0 -2.952953e+07\n",
       "1 -2.952931e+07\n",
       "2  5.392907e+07\n",
       "3  5.397647e+07\n",
       "4  5.398657e+07"
      ]
     },
     "execution_count": 44,
     "metadata": {},
     "output_type": "execute_result"
    }
   ],
   "source": [
    "# Print transformed data\n",
    "\n",
    "transformed_data = pd.DataFrame(transformed_data)\n",
    "transformed_data.head()"
   ]
  },
  {
   "cell_type": "markdown",
   "id": "b4066726-4a77-4a4e-9f09-182b0d5b054f",
   "metadata": {
    "tags": []
   },
   "source": [
    "**PCA of selected independent features**"
   ]
  },
  {
   "cell_type": "code",
   "execution_count": 45,
   "id": "a1d08967-952a-4a52-8164-79f9afd46d70",
   "metadata": {
    "tags": []
   },
   "outputs": [
    {
     "data": {
      "text/plain": [
       "(20, 20)"
      ]
     },
     "execution_count": 45,
     "metadata": {},
     "output_type": "execute_result"
    }
   ],
   "source": [
    "pca = PCA()\n",
    "pca.fit(lin_indep_features)\n",
    "\n",
    "t_matrix = pca.components_\n",
    "t_matrix.shape"
   ]
  },
  {
   "cell_type": "markdown",
   "id": "8fdf3a1a-d09f-4c1e-9156-6ce8282210cc",
   "metadata": {},
   "source": [
    "We received a matrix 20 x 20. This is our T matrix. What we did is to change our basis. We multipy with lambda all variables to receive the new basis."
   ]
  },
  {
   "cell_type": "code",
   "execution_count": 46,
   "id": "92758323-2e78-42f8-876f-8be010231867",
   "metadata": {
    "tags": []
   },
   "outputs": [
    {
     "data": {
      "text/plain": [
       "array([ 1.01573940e-04,  2.13057458e-03, -2.80029657e-03,  1.48126422e-02,\n",
       "        2.32061372e-02, -5.55720794e-02,  2.54850596e-02, -2.52892210e-01,\n",
       "        1.09860822e-01, -3.16342412e-01,  8.74616186e-02,  1.71835866e-02,\n",
       "       -1.74230689e-01,  2.64464194e-01, -8.09348652e-01, -2.15014623e-01,\n",
       "        3.74842286e-02,  2.84102488e-02,  8.74410023e-02, -4.29111155e-03])"
      ]
     },
     "execution_count": 46,
     "metadata": {},
     "output_type": "execute_result"
    }
   ],
   "source": [
    "t_matrix[:, 1]"
   ]
  },
  {
   "cell_type": "code",
   "execution_count": 47,
   "id": "a52ded91-7f73-46b0-8f65-93e48a0fdd5c",
   "metadata": {
    "tags": []
   },
   "outputs": [
    {
     "data": {
      "text/plain": [
       "array([8.96160176e-01, 9.34733034e-02, 6.91341023e-03, 2.43653236e-03,\n",
       "       8.16077673e-04, 9.54131395e-05, 5.17287294e-05, 1.88614922e-05,\n",
       "       1.21597187e-05, 9.29792066e-06, 5.42087312e-06, 3.82048174e-06,\n",
       "       1.66270453e-06, 8.41977013e-07, 6.29616168e-07, 3.68672964e-07,\n",
       "       1.20274578e-07, 1.00293068e-07, 5.58534291e-08, 1.89207126e-08])"
      ]
     },
     "execution_count": 47,
     "metadata": {},
     "output_type": "execute_result"
    }
   ],
   "source": [
    "changed_basis = pca.explained_variance_ratio_\n",
    "changed_basis"
   ]
  },
  {
   "cell_type": "code",
   "execution_count": 48,
   "id": "a22d1360-c0ee-4f0b-9656-c3d65c2846fa",
   "metadata": {
    "tags": []
   },
   "outputs": [
    {
     "data": {
      "image/png": "[encoded data removed]",
      "text/plain": [
       "<Figure size 640x480 with 1 Axes>"
      ]
     },
     "metadata": {},
     "output_type": "display_data"
    }
   ],
   "source": [
    "plt.scatter(range(len(changed_basis)), changed_basis)\n",
    "# plt.xlim(0, 20)\n",
    "# plt.ylim(0, 1.1)\n",
    "plt.xlabel(\"n_T.col\")\n",
    "plt.ylabel(\"importance\")\n",
    "\n",
    "plt.show()"
   ]
  },
  {
   "cell_type": "markdown",
   "id": "fb0c8d4a-eda0-4242-9781-2f83fd62c0f3",
   "metadata": {},
   "source": [
    "Wow! It looks that first feature explains 89.6% of all information in our dataset. First and second features explain 0.9896 of data variance. Let's reduce dimenstionality by cutting the features to two."
   ]
  },
  {
   "cell_type": "code",
   "execution_count": 49,
   "id": "db05f3fb-818d-4841-9184-3274689a135c",
   "metadata": {
    "tags": []
   },
   "outputs": [
    {
     "data": {
      "text/plain": [
       "(569, 2)"
      ]
     },
     "execution_count": 49,
     "metadata": {},
     "output_type": "execute_result"
    }
   ],
   "source": [
    "pca = PCA(2)\n",
    "pca.fit(lin_indep_features)\n",
    "transformed_data = pca.transform(lin_indep_features)\n",
    "transformed_data.shape"
   ]
  },
  {
   "cell_type": "code",
   "execution_count": 50,
   "id": "732aaba9-4299-4714-b54d-62927e83e1b2",
   "metadata": {
    "tags": []
   },
   "outputs": [
    {
     "data": {
      "text/html": [
       "<div>\n",
       "<style scoped>\n",
       "    .dataframe tbody tr th:only-of-type {\n",
       "        vertical-align: middle;\n",
       "    }\n",
       "\n",
       "    .dataframe tbody tr th {\n",
       "        vertical-align: top;\n",
       "    }\n",
       "\n",
       "    .dataframe thead th {\n",
       "        text-align: right;\n",
       "    }\n",
       "</style>\n",
       "<table border=\"1\" class=\"dataframe\">\n",
       "  <thead>\n",
       "    <tr style=\"text-align: right;\">\n",
       "      <th></th>\n",
       "      <th>0</th>\n",
       "      <th>1</th>\n",
       "    </tr>\n",
       "  </thead>\n",
       "  <tbody>\n",
       "    <tr>\n",
       "      <th>0</th>\n",
       "      <td>-7.866144</td>\n",
       "      <td>6.413679</td>\n",
       "    </tr>\n",
       "    <tr>\n",
       "      <th>1</th>\n",
       "      <td>-2.213885</td>\n",
       "      <td>0.759644</td>\n",
       "    </tr>\n",
       "    <tr>\n",
       "      <th>2</th>\n",
       "      <td>-0.007607</td>\n",
       "      <td>1.780873</td>\n",
       "    </tr>\n",
       "    <tr>\n",
       "      <th>3</th>\n",
       "      <td>0.896044</td>\n",
       "      <td>0.612077</td>\n",
       "    </tr>\n",
       "    <tr>\n",
       "      <th>4</th>\n",
       "      <td>-8.770531</td>\n",
       "      <td>3.321990</td>\n",
       "    </tr>\n",
       "  </tbody>\n",
       "</table>\n",
       "</div>"
      ],
      "text/plain": [
       "          0         1\n",
       "0 -7.866144  6.413679\n",
       "1 -2.213885  0.759644\n",
       "2 -0.007607  1.780873\n",
       "3  0.896044  0.612077\n",
       "4 -8.770531  3.321990"
      ]
     },
     "execution_count": 50,
     "metadata": {},
     "output_type": "execute_result"
    }
   ],
   "source": [
    "# Print transformed data\n",
    "\n",
    "transformed_data = pd.DataFrame(transformed_data)\n",
    "transformed_data.head()"
   ]
  },
  {
   "cell_type": "code",
   "execution_count": null,
   "id": "2691bc40-6f46-44f2-a623-4089c34f194d",
   "metadata": {},
   "outputs": [],
   "source": []
  },
  {
   "cell_type": "code",
   "execution_count": null,
   "id": "6800aa8b-984d-4def-9250-7a5f4fa89205",
   "metadata": {},
   "outputs": [],
   "source": []
  },
  {
   "cell_type": "code",
   "execution_count": null,
   "id": "578f1c6d-4dc1-4f91-a0fa-70bffa805cb0",
   "metadata": {},
   "outputs": [],
   "source": []
  },
  {
   "cell_type": "code",
   "execution_count": null,
   "id": "e1329398-556b-46f9-a8b0-54774033060a",
   "metadata": {},
   "outputs": [],
   "source": []
  }
 ],
 "metadata": {
  "kernelspec": {
   "display_name": "Python 3 (ipykernel)",
   "language": "python",
   "name": "python3"
  },
  "language_info": {
   "codemirror_mode": {
    "name": "ipython",
    "version": 3
   },
   "file_extension": ".py",
   "mimetype": "text/x-python",
   "name": "python",
   "nbconvert_exporter": "python",
   "pygments_lexer": "ipython3",
   "version": "3.9.16"
  }
 },
 "nbformat": 4,
 "nbformat_minor": 5
}
