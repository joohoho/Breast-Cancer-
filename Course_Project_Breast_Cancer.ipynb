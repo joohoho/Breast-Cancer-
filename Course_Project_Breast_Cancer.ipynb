{
 "cells": [
  {
   "cell_type": "code",
   "execution_count": 1,
   "id": "1bbefd8f-8e0d-430c-8206-1c982add8dfd",
   "metadata": {
    "tags": []
   },
   "outputs": [],
   "source": [
    "%matplotlib inline"
   ]
  },
  {
   "cell_type": "code",
   "execution_count": 2,
   "id": "58bd4f05-5096-4f7d-902c-16e63867c9b1",
   "metadata": {
    "tags": []
   },
   "outputs": [],
   "source": [
    "# imports\n",
    "\n",
    "import numpy as np\n",
    "import pandas as pd\n",
    "import matplotlib.pyplot as plt"
   ]
  },
  {
   "cell_type": "markdown",
   "id": "d0757853-2524-4d4a-8d79-86d7d79a9c6b",
   "metadata": {},
   "source": [
    "# Breast Cancer"
   ]
  },
  {
   "cell_type": "markdown",
   "id": "cc0032ff-6286-4529-b040-cb54b4c256db",
   "metadata": {
    "tags": []
   },
   "source": [
    "## PCA or LDA, Random Forest vs SVM?"
   ]
  },
  {
   "cell_type": "markdown",
   "id": "e976e28f-0f82-4ea5-8b00-5ee3e8e94fb1",
   "metadata": {},
   "source": [
    "Breast cancer is a disease in which cells in the breast grow out of control. There are different kinds of breast cancer. The kind of breast cancer depends on which cells in the breast turn into cancer.\n",
    "\n",
    "Breast cancer can begin in different parts of the breast. A breast is made up of three main parts: lobules, ducts, and connective tissue. The lobules are the glands that produce milk. The ducts are tubes that carry milk to the nipple. The connective tissue (which consists of fibrous and fatty tissue) surrounds and holds everything together. Most breast cancers begin in the ducts or lobules.\n",
    "\n",
    "Breast cancer can spread outside the breast through blood vessels and lymph vessels. When breast cancer spreads to other parts of the body, it is said to have metastasized."
   ]
  },
  {
   "cell_type": "markdown",
   "id": "5036f61f-851a-44a6-a011-a4ec184e8812",
   "metadata": {},
   "source": [
    "*We get two datasets - one from Eurostat with annual data about breast cancer cases in EU countries. Second dataset is from UCI and is well known for the many features related to the cancer cells parameters. Both datasets are totally different in the data they preserve. They are valuable in different ways, but unfortunately I can't make something third out of them. They are not compatible to be mixed, merged or looked at together. So let's explore the datasets one by one.*"
   ]
  },
  {
   "cell_type": "markdown",
   "id": "505b3e49-b60b-4d2a-9c0c-2310c85f4ca4",
   "metadata": {
    "tags": []
   },
   "source": [
    "**Eurostat Annual Data**"
   ]
  },
  {
   "cell_type": "markdown",
   "id": "309f9dfd-653a-4891-bfbd-9ec05a600ed8",
   "metadata": {},
   "source": [
    "*This data is public, available on the [eurostat website](https://ec.europa.eu/eurostat/databrowser/view/HLTH_PS_SCRE$DEFAULTVIEW/default/table?lang=en).There are 963 observations with annually agregated data in percentage.*"
   ]
  },
  {
   "cell_type": "code",
   "execution_count": 3,
   "id": "35a14eb2-6780-4597-a2e1-cae29bd9814a",
   "metadata": {
    "tags": []
   },
   "outputs": [],
   "source": [
    "bc_eurostat = pd.read_csv(\"data\\eurostat_breast_data.csv\")"
   ]
  },
  {
   "cell_type": "code",
   "execution_count": 4,
   "id": "14b12acc-c940-462c-bf1d-519a7294d1e8",
   "metadata": {
    "tags": []
   },
   "outputs": [],
   "source": [
    "# Let's rename and make the column names more pythonic.\n",
    "\n",
    "bc_eurostat.columns = bc_eurostat.columns.str.lower()\n",
    "bc_eurostat[\"last_update\"] = bc_eurostat[\"last update\"]\n",
    "bc_eurostat = bc_eurostat.drop(columns = [\"last update\"])"
   ]
  },
  {
   "cell_type": "code",
   "execution_count": 5,
   "id": "b7984be4-5bff-4fe6-970d-8dfda3c6b6d8",
   "metadata": {
    "tags": []
   },
   "outputs": [
    {
     "data": {
      "text/plain": [
       "(963, 10)"
      ]
     },
     "execution_count": 5,
     "metadata": {},
     "output_type": "execute_result"
    }
   ],
   "source": [
    "bc_eurostat.shape"
   ]
  },
  {
   "cell_type": "code",
   "execution_count": 6,
   "id": "936bbdaa-0d54-4b4d-b549-36c39bbf4d47",
   "metadata": {
    "tags": []
   },
   "outputs": [
    {
     "data": {
      "text/plain": [
       "dataflow        object\n",
       "freq            object\n",
       "unit            object\n",
       "source          object\n",
       "icd10           object\n",
       "geo             object\n",
       "time_period      int64\n",
       "obs_value      float64\n",
       "obs_flag        object\n",
       "last_update     object\n",
       "dtype: object"
      ]
     },
     "execution_count": 6,
     "metadata": {},
     "output_type": "execute_result"
    }
   ],
   "source": [
    "bc_eurostat.dtypes"
   ]
  },
  {
   "cell_type": "markdown",
   "id": "1fbba096-bf2b-46e9-80e3-cd2d993c0de0",
   "metadata": {},
   "source": [
    "*We see eight catagorical fields and two numeric, which is expected, due to the data contained in the table.*"
   ]
  },
  {
   "cell_type": "code",
   "execution_count": 7,
   "id": "666c2255-171e-4c9c-bc47-936c0261882d",
   "metadata": {
    "tags": []
   },
   "outputs": [
    {
     "data": {
      "text/plain": [
       "dataflow         0\n",
       "freq             0\n",
       "unit             0\n",
       "source           0\n",
       "icd10            0\n",
       "geo              0\n",
       "time_period      0\n",
       "obs_value        0\n",
       "obs_flag       649\n",
       "last_update      0\n",
       "dtype: int64"
      ]
     },
     "execution_count": 7,
     "metadata": {},
     "output_type": "execute_result"
    }
   ],
   "source": [
    "#Let's check for missing values in the dataset\n",
    "\n",
    "bc_eurostat.isnull().sum()"
   ]
  },
  {
   "cell_type": "markdown",
   "id": "683912ac-9aeb-48fd-9a53-ed3afe0f0290",
   "metadata": {},
   "source": [
    "*Some of the fields in the column obs_flag are missing - 649. Let's explore further this field to check if this is an issue and how to address it.*"
   ]
  },
  {
   "cell_type": "code",
   "execution_count": 8,
   "id": "979ed023-dc77-480f-aa6c-7658fda4efc0",
   "metadata": {
    "tags": []
   },
   "outputs": [
    {
     "data": {
      "text/plain": [
       "array([nan, 'b', 'd', 'e', 'dp', 'p', 'bd'], dtype=object)"
      ]
     },
     "execution_count": 8,
     "metadata": {},
     "output_type": "execute_result"
    }
   ],
   "source": [
    "bc_eurostat.obs_flag.unique()"
   ]
  },
  {
   "cell_type": "markdown",
   "id": "e2a61e3b-502d-4ccb-bfbd-97554b0a8ce0",
   "metadata": {},
   "source": [
    "*According to the documentation \"obs_flag\" string values correspond to - b: break in time series; d: definition differs; e: estimated; bd: break in time series, definition differs; dp: definition differs, provisional; p: provisional.\n",
    "This column gives an information on the way the data has been presented.*"
   ]
  },
  {
   "cell_type": "code",
   "execution_count": 9,
   "id": "c4f174b0-4948-4514-86f5-0a3fe8d68b5c",
   "metadata": {
    "tags": []
   },
   "outputs": [
    {
     "data": {
      "text/html": [
       "<div>\n",
       "<style scoped>\n",
       "    .dataframe tbody tr th:only-of-type {\n",
       "        vertical-align: middle;\n",
       "    }\n",
       "\n",
       "    .dataframe tbody tr th {\n",
       "        vertical-align: top;\n",
       "    }\n",
       "\n",
       "    .dataframe thead th {\n",
       "        text-align: right;\n",
       "    }\n",
       "</style>\n",
       "<table border=\"1\" class=\"dataframe\">\n",
       "  <thead>\n",
       "    <tr style=\"text-align: right;\">\n",
       "      <th></th>\n",
       "      <th>dataflow</th>\n",
       "      <th>freq</th>\n",
       "      <th>unit</th>\n",
       "      <th>source</th>\n",
       "      <th>icd10</th>\n",
       "      <th>geo</th>\n",
       "      <th>time_period</th>\n",
       "      <th>obs_value</th>\n",
       "      <th>obs_flag</th>\n",
       "      <th>last_update</th>\n",
       "    </tr>\n",
       "  </thead>\n",
       "  <tbody>\n",
       "    <tr>\n",
       "      <th>0</th>\n",
       "      <td>ESTAT:HLTH_PS_SCRE(1.0)</td>\n",
       "      <td>A</td>\n",
       "      <td>PC</td>\n",
       "      <td>PRG</td>\n",
       "      <td>C50</td>\n",
       "      <td>BE</td>\n",
       "      <td>2001</td>\n",
       "      <td>50.0</td>\n",
       "      <td>NaN</td>\n",
       "      <td>12/07/22 11:00:00</td>\n",
       "    </tr>\n",
       "    <tr>\n",
       "      <th>1</th>\n",
       "      <td>ESTAT:HLTH_PS_SCRE(1.0)</td>\n",
       "      <td>A</td>\n",
       "      <td>PC</td>\n",
       "      <td>PRG</td>\n",
       "      <td>C50</td>\n",
       "      <td>BE</td>\n",
       "      <td>2002</td>\n",
       "      <td>54.0</td>\n",
       "      <td>NaN</td>\n",
       "      <td>12/07/22 11:00:00</td>\n",
       "    </tr>\n",
       "    <tr>\n",
       "      <th>2</th>\n",
       "      <td>ESTAT:HLTH_PS_SCRE(1.0)</td>\n",
       "      <td>A</td>\n",
       "      <td>PC</td>\n",
       "      <td>PRG</td>\n",
       "      <td>C50</td>\n",
       "      <td>BE</td>\n",
       "      <td>2003</td>\n",
       "      <td>53.7</td>\n",
       "      <td>NaN</td>\n",
       "      <td>12/07/22 11:00:00</td>\n",
       "    </tr>\n",
       "    <tr>\n",
       "      <th>3</th>\n",
       "      <td>ESTAT:HLTH_PS_SCRE(1.0)</td>\n",
       "      <td>A</td>\n",
       "      <td>PC</td>\n",
       "      <td>PRG</td>\n",
       "      <td>C50</td>\n",
       "      <td>BE</td>\n",
       "      <td>2004</td>\n",
       "      <td>55.9</td>\n",
       "      <td>NaN</td>\n",
       "      <td>12/07/22 11:00:00</td>\n",
       "    </tr>\n",
       "    <tr>\n",
       "      <th>4</th>\n",
       "      <td>ESTAT:HLTH_PS_SCRE(1.0)</td>\n",
       "      <td>A</td>\n",
       "      <td>PC</td>\n",
       "      <td>PRG</td>\n",
       "      <td>C50</td>\n",
       "      <td>BE</td>\n",
       "      <td>2005</td>\n",
       "      <td>56.6</td>\n",
       "      <td>NaN</td>\n",
       "      <td>12/07/22 11:00:00</td>\n",
       "    </tr>\n",
       "  </tbody>\n",
       "</table>\n",
       "</div>"
      ],
      "text/plain": [
       "                  dataflow freq unit source icd10 geo  time_period  obs_value  \\\n",
       "0  ESTAT:HLTH_PS_SCRE(1.0)    A   PC    PRG   C50  BE         2001       50.0   \n",
       "1  ESTAT:HLTH_PS_SCRE(1.0)    A   PC    PRG   C50  BE         2002       54.0   \n",
       "2  ESTAT:HLTH_PS_SCRE(1.0)    A   PC    PRG   C50  BE         2003       53.7   \n",
       "3  ESTAT:HLTH_PS_SCRE(1.0)    A   PC    PRG   C50  BE         2004       55.9   \n",
       "4  ESTAT:HLTH_PS_SCRE(1.0)    A   PC    PRG   C50  BE         2005       56.6   \n",
       "\n",
       "  obs_flag        last_update  \n",
       "0      NaN  12/07/22 11:00:00  \n",
       "1      NaN  12/07/22 11:00:00  \n",
       "2      NaN  12/07/22 11:00:00  \n",
       "3      NaN  12/07/22 11:00:00  \n",
       "4      NaN  12/07/22 11:00:00  "
      ]
     },
     "execution_count": 9,
     "metadata": {},
     "output_type": "execute_result"
    }
   ],
   "source": [
    "bc_eurostat.head()"
   ]
  },
  {
   "cell_type": "code",
   "execution_count": 10,
   "id": "63876a4a-7482-41df-822a-bfdeed59f1a6",
   "metadata": {
    "tags": []
   },
   "outputs": [
    {
     "data": {
      "text/plain": [
       "(array(['ESTAT:HLTH_PS_SCRE(1.0)'], dtype=object),\n",
       " array(['12/07/22 11:00:00'], dtype=object))"
      ]
     },
     "execution_count": 10,
     "metadata": {},
     "output_type": "execute_result"
    }
   ],
   "source": [
    "bc_eurostat.dataflow.unique(), bc_eurostat[\"last_update\"].unique()"
   ]
  },
  {
   "cell_type": "markdown",
   "id": "ce8d94b0-5f43-4cef-915e-539b21577f10",
   "metadata": {},
   "source": [
    "*The first and the last columns of Eurostat dataset doesn't tell us anything, but the name and last update of the dataset. We have one unique value per column. We will exclude them from the EDA, as we don't get useful information.*"
   ]
  },
  {
   "cell_type": "code",
   "execution_count": 11,
   "id": "f7a1139b-a78a-4c93-b223-9f1b7430b107",
   "metadata": {
    "tags": []
   },
   "outputs": [
    {
     "data": {
      "text/plain": [
       "(array(['A'], dtype=object), array(['PC'], dtype=object))"
      ]
     },
     "execution_count": 11,
     "metadata": {},
     "output_type": "execute_result"
    }
   ],
   "source": [
    "bc_eurostat.freq.unique(), bc_eurostat.unit.unique()"
   ]
  },
  {
   "cell_type": "markdown",
   "id": "7cbc7029-dc97-4108-8d27-600c44d8d535",
   "metadata": {},
   "source": [
    "*According to documentation second and third columns tell us the data is agregated annually and measure unit is percentage.*"
   ]
  },
  {
   "cell_type": "code",
   "execution_count": 12,
   "id": "4b257539-dce3-4c6a-a5da-4f7a65a1c3ae",
   "metadata": {
    "tags": []
   },
   "outputs": [
    {
     "name": "stdout",
     "output_type": "stream",
     "text": [
      "Unique medical diagnosis:  ['C50' 'C53']\n",
      "List of the countires in the research  ['BE' 'BG' 'CY' 'CZ' 'DE' 'DK' 'EE' 'FI' 'FR' 'HR' 'HU' 'IE' 'IS' 'IT'\n",
      " 'LI' 'LT' 'LU' 'LV' 'ME' 'MK' 'MT' 'NL' 'NO' 'RO' 'RS' 'SI' 'SK' 'TR'\n",
      " 'UK' 'SE' 'AT' 'CH' 'EL' 'ES' 'PL' 'PT']\n",
      "Number of countries is:  36\n",
      "Years of observations:  [2001 2002 2003 2004 2005 2006 2007 2008 2009 2010 2011 2012 2013 2014\n",
      " 2015 2016 2017 2018 2019 2020 2021 2000]\n"
     ]
    }
   ],
   "source": [
    "print(\"Unique medical diagnosis: \", bc_eurostat.icd10.unique()) \n",
    "\n",
    "print(\"List of the countires in the research \", bc_eurostat.geo.unique())\n",
    "print(\"Number of countries is: \", len(bc_eurostat.geo.unique()))\n",
    "\n",
    "print(\"Years of observations: \", bc_eurostat.time_period.unique())"
   ]
  },
  {
   "cell_type": "markdown",
   "id": "2f18c158-18d8-4174-9031-5429c56f08a6",
   "metadata": {},
   "source": [
    "*The column \"icd10\" corresponds to medical codes for diagnosis - C50: Malignant neoplasm of breast, C53: Malignant neoplasm of cervix uteri. \n",
    "The observations include 36 european countries. Period of observations is from 2000 to 2021 inclusive.\n",
    "Interesting fields are \"geo\" - country name, \"time_period\" - year and \"obs_value\" - calculated percentage.\n",
    "Let's create some visualization to get sense of the data.*"
   ]
  },
  {
   "cell_type": "markdown",
   "id": "43fe340a-1074-4b5e-886b-2745ab3ac498",
   "metadata": {},
   "source": [
    "*We can check how the figures for 2021 look like.*"
   ]
  },
  {
   "cell_type": "code",
   "execution_count": 13,
   "id": "f812b2e3-cbb8-49ed-be56-1d6a75a3baf4",
   "metadata": {
    "tags": []
   },
   "outputs": [
    {
     "data": {
      "text/html": [
       "<div>\n",
       "<style scoped>\n",
       "    .dataframe tbody tr th:only-of-type {\n",
       "        vertical-align: middle;\n",
       "    }\n",
       "\n",
       "    .dataframe tbody tr th {\n",
       "        vertical-align: top;\n",
       "    }\n",
       "\n",
       "    .dataframe thead th {\n",
       "        text-align: right;\n",
       "    }\n",
       "</style>\n",
       "<table border=\"1\" class=\"dataframe\">\n",
       "  <thead>\n",
       "    <tr style=\"text-align: right;\">\n",
       "      <th></th>\n",
       "      <th>dataflow</th>\n",
       "      <th>freq</th>\n",
       "      <th>unit</th>\n",
       "      <th>source</th>\n",
       "      <th>icd10</th>\n",
       "      <th>geo</th>\n",
       "      <th>time_period</th>\n",
       "      <th>obs_value</th>\n",
       "      <th>obs_flag</th>\n",
       "      <th>last_update</th>\n",
       "    </tr>\n",
       "  </thead>\n",
       "  <tbody>\n",
       "    <tr>\n",
       "      <th>141</th>\n",
       "      <td>ESTAT:HLTH_PS_SCRE(1.0)</td>\n",
       "      <td>A</td>\n",
       "      <td>PC</td>\n",
       "      <td>PRG</td>\n",
       "      <td>C50</td>\n",
       "      <td>HR</td>\n",
       "      <td>2021</td>\n",
       "      <td>56.0</td>\n",
       "      <td>NaN</td>\n",
       "      <td>12/07/22 11:00:00</td>\n",
       "    </tr>\n",
       "    <tr>\n",
       "      <th>238</th>\n",
       "      <td>ESTAT:HLTH_PS_SCRE(1.0)</td>\n",
       "      <td>A</td>\n",
       "      <td>PC</td>\n",
       "      <td>PRG</td>\n",
       "      <td>C50</td>\n",
       "      <td>LT</td>\n",
       "      <td>2021</td>\n",
       "      <td>45.5</td>\n",
       "      <td>p</td>\n",
       "      <td>12/07/22 11:00:00</td>\n",
       "    </tr>\n",
       "    <tr>\n",
       "      <th>272</th>\n",
       "      <td>ESTAT:HLTH_PS_SCRE(1.0)</td>\n",
       "      <td>A</td>\n",
       "      <td>PC</td>\n",
       "      <td>PRG</td>\n",
       "      <td>C50</td>\n",
       "      <td>LV</td>\n",
       "      <td>2021</td>\n",
       "      <td>30.8</td>\n",
       "      <td>NaN</td>\n",
       "      <td>12/07/22 11:00:00</td>\n",
       "    </tr>\n",
       "    <tr>\n",
       "      <th>289</th>\n",
       "      <td>ESTAT:HLTH_PS_SCRE(1.0)</td>\n",
       "      <td>A</td>\n",
       "      <td>PC</td>\n",
       "      <td>PRG</td>\n",
       "      <td>C50</td>\n",
       "      <td>MT</td>\n",
       "      <td>2021</td>\n",
       "      <td>77.8</td>\n",
       "      <td>NaN</td>\n",
       "      <td>12/07/22 11:00:00</td>\n",
       "    </tr>\n",
       "    <tr>\n",
       "      <th>332</th>\n",
       "      <td>ESTAT:HLTH_PS_SCRE(1.0)</td>\n",
       "      <td>A</td>\n",
       "      <td>PC</td>\n",
       "      <td>PRG</td>\n",
       "      <td>C50</td>\n",
       "      <td>NO</td>\n",
       "      <td>2021</td>\n",
       "      <td>65.5</td>\n",
       "      <td>NaN</td>\n",
       "      <td>12/07/22 11:00:00</td>\n",
       "    </tr>\n",
       "    <tr>\n",
       "      <th>343</th>\n",
       "      <td>ESTAT:HLTH_PS_SCRE(1.0)</td>\n",
       "      <td>A</td>\n",
       "      <td>PC</td>\n",
       "      <td>PRG</td>\n",
       "      <td>C50</td>\n",
       "      <td>RS</td>\n",
       "      <td>2021</td>\n",
       "      <td>5.2</td>\n",
       "      <td>NaN</td>\n",
       "      <td>12/07/22 11:00:00</td>\n",
       "    </tr>\n",
       "    <tr>\n",
       "      <th>355</th>\n",
       "      <td>ESTAT:HLTH_PS_SCRE(1.0)</td>\n",
       "      <td>A</td>\n",
       "      <td>PC</td>\n",
       "      <td>PRG</td>\n",
       "      <td>C50</td>\n",
       "      <td>SI</td>\n",
       "      <td>2021</td>\n",
       "      <td>77.2</td>\n",
       "      <td>NaN</td>\n",
       "      <td>12/07/22 11:00:00</td>\n",
       "    </tr>\n",
       "    <tr>\n",
       "      <th>561</th>\n",
       "      <td>ESTAT:HLTH_PS_SCRE(1.0)</td>\n",
       "      <td>A</td>\n",
       "      <td>PC</td>\n",
       "      <td>PRG</td>\n",
       "      <td>C53</td>\n",
       "      <td>LT</td>\n",
       "      <td>2021</td>\n",
       "      <td>53.5</td>\n",
       "      <td>dp</td>\n",
       "      <td>12/07/22 11:00:00</td>\n",
       "    </tr>\n",
       "    <tr>\n",
       "      <th>582</th>\n",
       "      <td>ESTAT:HLTH_PS_SCRE(1.0)</td>\n",
       "      <td>A</td>\n",
       "      <td>PC</td>\n",
       "      <td>PRG</td>\n",
       "      <td>C53</td>\n",
       "      <td>LV</td>\n",
       "      <td>2021</td>\n",
       "      <td>35.1</td>\n",
       "      <td>NaN</td>\n",
       "      <td>12/07/22 11:00:00</td>\n",
       "    </tr>\n",
       "    <tr>\n",
       "      <th>596</th>\n",
       "      <td>ESTAT:HLTH_PS_SCRE(1.0)</td>\n",
       "      <td>A</td>\n",
       "      <td>PC</td>\n",
       "      <td>PRG</td>\n",
       "      <td>C53</td>\n",
       "      <td>MT</td>\n",
       "      <td>2021</td>\n",
       "      <td>23.5</td>\n",
       "      <td>d</td>\n",
       "      <td>12/07/22 11:00:00</td>\n",
       "    </tr>\n",
       "    <tr>\n",
       "      <th>654</th>\n",
       "      <td>ESTAT:HLTH_PS_SCRE(1.0)</td>\n",
       "      <td>A</td>\n",
       "      <td>PC</td>\n",
       "      <td>PRG</td>\n",
       "      <td>C53</td>\n",
       "      <td>RS</td>\n",
       "      <td>2021</td>\n",
       "      <td>5.6</td>\n",
       "      <td>d</td>\n",
       "      <td>12/07/22 11:00:00</td>\n",
       "    </tr>\n",
       "    <tr>\n",
       "      <th>692</th>\n",
       "      <td>ESTAT:HLTH_PS_SCRE(1.0)</td>\n",
       "      <td>A</td>\n",
       "      <td>PC</td>\n",
       "      <td>PRG</td>\n",
       "      <td>C53</td>\n",
       "      <td>SI</td>\n",
       "      <td>2021</td>\n",
       "      <td>71.7</td>\n",
       "      <td>d</td>\n",
       "      <td>12/07/22 11:00:00</td>\n",
       "    </tr>\n",
       "  </tbody>\n",
       "</table>\n",
       "</div>"
      ],
      "text/plain": [
       "                    dataflow freq unit source icd10 geo  time_period  \\\n",
       "141  ESTAT:HLTH_PS_SCRE(1.0)    A   PC    PRG   C50  HR         2021   \n",
       "238  ESTAT:HLTH_PS_SCRE(1.0)    A   PC    PRG   C50  LT         2021   \n",
       "272  ESTAT:HLTH_PS_SCRE(1.0)    A   PC    PRG   C50  LV         2021   \n",
       "289  ESTAT:HLTH_PS_SCRE(1.0)    A   PC    PRG   C50  MT         2021   \n",
       "332  ESTAT:HLTH_PS_SCRE(1.0)    A   PC    PRG   C50  NO         2021   \n",
       "343  ESTAT:HLTH_PS_SCRE(1.0)    A   PC    PRG   C50  RS         2021   \n",
       "355  ESTAT:HLTH_PS_SCRE(1.0)    A   PC    PRG   C50  SI         2021   \n",
       "561  ESTAT:HLTH_PS_SCRE(1.0)    A   PC    PRG   C53  LT         2021   \n",
       "582  ESTAT:HLTH_PS_SCRE(1.0)    A   PC    PRG   C53  LV         2021   \n",
       "596  ESTAT:HLTH_PS_SCRE(1.0)    A   PC    PRG   C53  MT         2021   \n",
       "654  ESTAT:HLTH_PS_SCRE(1.0)    A   PC    PRG   C53  RS         2021   \n",
       "692  ESTAT:HLTH_PS_SCRE(1.0)    A   PC    PRG   C53  SI         2021   \n",
       "\n",
       "     obs_value obs_flag        last_update  \n",
       "141       56.0      NaN  12/07/22 11:00:00  \n",
       "238       45.5        p  12/07/22 11:00:00  \n",
       "272       30.8      NaN  12/07/22 11:00:00  \n",
       "289       77.8      NaN  12/07/22 11:00:00  \n",
       "332       65.5      NaN  12/07/22 11:00:00  \n",
       "343        5.2      NaN  12/07/22 11:00:00  \n",
       "355       77.2      NaN  12/07/22 11:00:00  \n",
       "561       53.5       dp  12/07/22 11:00:00  \n",
       "582       35.1      NaN  12/07/22 11:00:00  \n",
       "596       23.5        d  12/07/22 11:00:00  \n",
       "654        5.6        d  12/07/22 11:00:00  \n",
       "692       71.7        d  12/07/22 11:00:00  "
      ]
     },
     "execution_count": 13,
     "metadata": {},
     "output_type": "execute_result"
    }
   ],
   "source": [
    "data_2021 = bc_eurostat[bc_eurostat.time_period == 2021]\n",
    "data_2021"
   ]
  },
  {
   "cell_type": "markdown",
   "id": "c944d5c0-6a0f-4966-9a59-b250637f5aba",
   "metadata": {},
   "source": [
    "*We observe non-unique values in column \"geo\", which gives us a hard time to uncover what the data could show us for 2021.\n",
    "Let's make it more suitable for our goal by unmelting column \"icd10\".*"
   ]
  },
  {
   "cell_type": "code",
   "execution_count": 14,
   "id": "d7738350-2766-430f-aa5b-8b763da61360",
   "metadata": {
    "tags": []
   },
   "outputs": [
    {
     "data": {
      "text/html": [
       "<div>\n",
       "<style scoped>\n",
       "    .dataframe tbody tr th:only-of-type {\n",
       "        vertical-align: middle;\n",
       "    }\n",
       "\n",
       "    .dataframe tbody tr th {\n",
       "        vertical-align: top;\n",
       "    }\n",
       "\n",
       "    .dataframe thead th {\n",
       "        text-align: right;\n",
       "    }\n",
       "</style>\n",
       "<table border=\"1\" class=\"dataframe\">\n",
       "  <thead>\n",
       "    <tr style=\"text-align: right;\">\n",
       "      <th>icd10</th>\n",
       "      <th>C50</th>\n",
       "      <th>C53</th>\n",
       "    </tr>\n",
       "    <tr>\n",
       "      <th>geo</th>\n",
       "      <th></th>\n",
       "      <th></th>\n",
       "    </tr>\n",
       "  </thead>\n",
       "  <tbody>\n",
       "    <tr>\n",
       "      <th>HR</th>\n",
       "      <td>56.0</td>\n",
       "      <td>NaN</td>\n",
       "    </tr>\n",
       "    <tr>\n",
       "      <th>LT</th>\n",
       "      <td>45.5</td>\n",
       "      <td>53.5</td>\n",
       "    </tr>\n",
       "    <tr>\n",
       "      <th>LV</th>\n",
       "      <td>30.8</td>\n",
       "      <td>35.1</td>\n",
       "    </tr>\n",
       "    <tr>\n",
       "      <th>MT</th>\n",
       "      <td>77.8</td>\n",
       "      <td>23.5</td>\n",
       "    </tr>\n",
       "    <tr>\n",
       "      <th>NO</th>\n",
       "      <td>65.5</td>\n",
       "      <td>NaN</td>\n",
       "    </tr>\n",
       "    <tr>\n",
       "      <th>RS</th>\n",
       "      <td>5.2</td>\n",
       "      <td>5.6</td>\n",
       "    </tr>\n",
       "    <tr>\n",
       "      <th>SI</th>\n",
       "      <td>77.2</td>\n",
       "      <td>71.7</td>\n",
       "    </tr>\n",
       "  </tbody>\n",
       "</table>\n",
       "</div>"
      ],
      "text/plain": [
       "icd10   C50   C53\n",
       "geo              \n",
       "HR     56.0   NaN\n",
       "LT     45.5  53.5\n",
       "LV     30.8  35.1\n",
       "MT     77.8  23.5\n",
       "NO     65.5   NaN\n",
       "RS      5.2   5.6\n",
       "SI     77.2  71.7"
      ]
     },
     "execution_count": 14,
     "metadata": {},
     "output_type": "execute_result"
    }
   ],
   "source": [
    "tidy_2021 = data_2021.pivot(columns = \"icd10\", index = \"geo\", values = \"obs_value\")\n",
    "tidy_2021"
   ]
  },
  {
   "cell_type": "code",
   "execution_count": 15,
   "id": "0939fca4-00bb-4e37-8f04-984777c6f8d8",
   "metadata": {
    "tags": []
   },
   "outputs": [
    {
     "data": {
      "image/png": "[encoded data removed]",
      "text/plain": [
       "<Figure size 640x480 with 1 Axes>"
      ]
     },
     "metadata": {},
     "output_type": "display_data"
    }
   ],
   "source": [
    "tidy_2021.plot.barh(alpha = 0.7)\n",
    "\n",
    "plt.title(\"Breast Cancer Cases in 2021\")\n",
    "plt.xlabel(\"Percantage\")\n",
    "plt.ylabel(\"Country\")\n",
    "plt.xticks(range(0, 110, 10))\n",
    "plt.yticks(range(0, 7), tidy_2021.index)\n",
    "plt.gca().invert_yaxis()\n",
    "plt.show()"
   ]
  },
  {
   "cell_type": "markdown",
   "id": "a3dc775a-c840-45c8-b195-f7ae15c29ecf",
   "metadata": {},
   "source": [
    "*Just 7 countries are presented in the 2021 data out of 36. Slovenia shows very high number of Breast Cancer - above 70%, while Serbia is on the bottom with under 10%. However we should mind the different ways in different countries the data has been collected.*"
   ]
  },
  {
   "cell_type": "markdown",
   "id": "703dbea0-e861-4ac6-9a9d-4fd9be1ca958",
   "metadata": {
    "tags": []
   },
   "source": [
    "**Bulgaria Numbers**\n",
    "\n",
    "*We are interested only in Bulgaria breast cancer cases. What is the situation historically and if there is a trend that could reveals more. We assume bouth sources of information (source: PRG, SRV) are equally reliable, so we will aggregate our data by country, year and diagnosis.*"
   ]
  },
  {
   "cell_type": "code",
   "execution_count": 16,
   "id": "fa64bb10-49f1-4508-9bab-aba0afb333b1",
   "metadata": {
    "tags": []
   },
   "outputs": [
    {
     "data": {
      "text/plain": [
       "array(['PRG', 'SRV'], dtype=object)"
      ]
     },
     "execution_count": 16,
     "metadata": {},
     "output_type": "execute_result"
    }
   ],
   "source": [
    "bc_eurostat.source.unique()"
   ]
  },
  {
   "cell_type": "markdown",
   "id": "99de48d5-ae2c-41d7-a343-e1b08777c5f7",
   "metadata": {
    "tags": []
   },
   "source": [
    "**Functions creation**\n",
    "\n",
    "*First function provides the data in the suitable size and format. Second function plots visuals to see the numbers.*"
   ]
  },
  {
   "cell_type": "code",
   "execution_count": 17,
   "id": "b6d4f142-2e18-4285-8fc9-039fe6642240",
   "metadata": {
    "tags": []
   },
   "outputs": [],
   "source": [
    "def get_cntry_cases(dataset, geo_name, icd10_name):\n",
    "    \"\"\"\n",
    "    The function scrunch the numbers by grouping a given dataset by country name, diagnosis and year.\n",
    "    It filters for specific country and diagnosis. \n",
    "    \"\"\"\n",
    "        \n",
    "    dataset = dataset[(dataset.geo == geo_name)\n",
    "                     & (dataset.icd10 == icd10_name)]\n",
    "    result = dataset.groupby(by = [\"geo\", \"icd10\", \"time_period\"])[\"obs_value\"].mean().round(0)\n",
    "    return result"
   ]
  },
  {
   "cell_type": "code",
   "execution_count": 18,
   "id": "08cdec2a-036d-4e89-9f88-55c7e5b6014b",
   "metadata": {
    "tags": []
   },
   "outputs": [],
   "source": [
    "def plot_cases_yearly(x1, y1, x2, y2, xticks, title):\n",
    "    \"\"\" \n",
    "    This is a function for plotting Breast Cancer Cases per Year.\n",
    "    We are using grouped bar chart.\n",
    "    x1, y1 - correspond to data for icd10 = C50\n",
    "    x2, y2 - correspond to data for icd10 = C53\n",
    "    \"\"\"\n",
    "    \n",
    "    width = 0.4\n",
    "    plt.figure(figsize = (8, 6))\n",
    "\n",
    "    plt.bar(x1 - 0.2, y1, width, alpha = 0.7, label = \"C50\")\n",
    "    plt.bar(x2 + 0.2, y2, width, alpha = 0.7, label = \"C53\")\n",
    "\n",
    "    plt.title(title)\n",
    "    plt.xlabel(\"Year\")\n",
    "    plt.ylabel(\"Percentage\")\n",
    "    plt.xticks(xticks)\n",
    "    plt.yticks(range(0, 110, 10))\n",
    "    plt.legend()\n",
    "    plt.show()"
   ]
  },
  {
   "cell_type": "code",
   "execution_count": 19,
   "id": "90804787-0724-4926-8a33-9490b089e984",
   "metadata": {
    "tags": []
   },
   "outputs": [
    {
     "data": {
      "text/plain": [
       "(geo  icd10  time_period\n",
       " BG   C50    2008           22.0\n",
       "             2014           32.0\n",
       "             2015           14.0\n",
       "             2016           21.0\n",
       "             2017           21.0\n",
       "             2019           36.0\n",
       " Name: obs_value, dtype: float64,\n",
       " geo  icd10  time_period\n",
       " BG   C53    2008           47.0\n",
       "             2014           52.0\n",
       "             2015            9.0\n",
       "             2016           34.0\n",
       "             2017           13.0\n",
       "             2019           57.0\n",
       " Name: obs_value, dtype: float64)"
      ]
     },
     "execution_count": 19,
     "metadata": {},
     "output_type": "execute_result"
    }
   ],
   "source": [
    "# We are interested only in data for Bulgaria. And separately data for both diagnosis.\n",
    "\n",
    "bg_C50 = get_cntry_cases(bc_eurostat, \"BG\", \"C50\")\n",
    "bg_C53 = get_cntry_cases(bc_eurostat, \"BG\", \"C53\")\n",
    "bg_C50, bg_C53"
   ]
  },
  {
   "cell_type": "code",
   "execution_count": 20,
   "id": "659980ff-9900-4800-88fe-a72b7ca535ec",
   "metadata": {
    "tags": []
   },
   "outputs": [
    {
     "data": {
      "text/plain": [
       "(Int64Index([2008, 2014, 2015, 2016, 2017, 2019], dtype='int64', name='time_period'),\n",
       " Int64Index([2008, 2014, 2015, 2016, 2017, 2019], dtype='int64', name='time_period'))"
      ]
     },
     "execution_count": 20,
     "metadata": {},
     "output_type": "execute_result"
    }
   ],
   "source": [
    "bg_years_list_C50 = bg_C50.index.get_level_values(2)\n",
    "bg_years_list_C53 = bg_C53.index.get_level_values(2)\n",
    "bg_years_list_C50, bg_years_list_C50"
   ]
  },
  {
   "cell_type": "code",
   "execution_count": 21,
   "id": "d7cd1911-e7e2-4b72-ba35-461de2a16649",
   "metadata": {
    "tags": []
   },
   "outputs": [
    {
     "data": {
      "image/png": "[encoded data removed]",
      "text/plain": [
       "<Figure size 800x600 with 1 Axes>"
      ]
     },
     "metadata": {},
     "output_type": "display_data"
    }
   ],
   "source": [
    "plot_cases_yearly(bg_years_list_C50, bg_C50, bg_years_list_C53, bg_C53, bg_years_list_C50, \"Bulgaria Breast Cancer Cases\")"
   ]
  },
  {
   "cell_type": "markdown",
   "id": "31e5ef68-bb81-429c-afa1-b85122966ae8",
   "metadata": {},
   "source": [
    "*It is hard to analyze what we see, so let's try to compare it with something \"similar\".\n",
    "From EU countries Slovakia is with number of population close to the Bulgarian one. According to wikipedia - 5.4 millions in 2021. And 6.5 millions for Bulgaria. Let's check the figures in Slovakia to better understand the situation in Bulgaria.*"
   ]
  },
  {
   "cell_type": "markdown",
   "id": "8bef2c75-aac5-4e1c-90f2-682ed8d1a7d1",
   "metadata": {
    "tags": []
   },
   "source": [
    "**Slovakia Numbers**"
   ]
  },
  {
   "cell_type": "code",
   "execution_count": 22,
   "id": "126243e8-0f84-48ed-a6d3-c074873b6629",
   "metadata": {
    "tags": []
   },
   "outputs": [
    {
     "data": {
      "text/plain": [
       "(geo  icd10  time_period\n",
       " SK   C50    2006           29.0\n",
       "             2007           32.0\n",
       "             2008           34.0\n",
       "             2009           47.0\n",
       "             2010           33.0\n",
       "             2011           31.0\n",
       "             2012           32.0\n",
       "             2013           31.0\n",
       "             2014           42.0\n",
       "             2015           30.0\n",
       "             2016           31.0\n",
       "             2017           31.0\n",
       "             2018           30.0\n",
       "             2019           42.0\n",
       "             2020           27.0\n",
       " Name: obs_value, dtype: float64,\n",
       " geo  icd10  time_period\n",
       " SK   C53    2009           56.0\n",
       "             2010           49.0\n",
       "             2011           48.0\n",
       "             2012           47.0\n",
       "             2013           47.0\n",
       "             2014           58.0\n",
       "             2015           48.0\n",
       "             2016           46.0\n",
       "             2017           46.0\n",
       "             2018           46.0\n",
       "             2019           59.0\n",
       "             2020           40.0\n",
       " Name: obs_value, dtype: float64)"
      ]
     },
     "execution_count": 22,
     "metadata": {},
     "output_type": "execute_result"
    }
   ],
   "source": [
    "# Slovakia data extraction\n",
    "\n",
    "sk_C50 = get_cntry_cases(bc_eurostat, \"SK\", \"C50\")\n",
    "sk_C53 = get_cntry_cases(bc_eurostat, \"SK\", \"C53\")\n",
    "sk_C50, sk_C53"
   ]
  },
  {
   "cell_type": "code",
   "execution_count": 23,
   "id": "dc6d02af-2f13-4439-a978-6dfac95cf9e0",
   "metadata": {
    "tags": []
   },
   "outputs": [
    {
     "data": {
      "text/plain": [
       "(Int64Index([2006, 2007, 2008, 2009, 2010, 2011, 2012, 2013, 2014, 2015, 2016,\n",
       "             2017, 2018, 2019, 2020],\n",
       "            dtype='int64', name='time_period'),\n",
       " Int64Index([2006, 2007, 2008, 2009, 2010, 2011, 2012, 2013, 2014, 2015, 2016,\n",
       "             2017, 2018, 2019, 2020],\n",
       "            dtype='int64', name='time_period'))"
      ]
     },
     "execution_count": 23,
     "metadata": {},
     "output_type": "execute_result"
    }
   ],
   "source": [
    "sk_years_list_C50 = sk_C50.index.get_level_values(2)\n",
    "sk_years_list_C53 = sk_C53.index.get_level_values(2)\n",
    "sk_years_list_C50, sk_years_list_C50"
   ]
  },
  {
   "cell_type": "code",
   "execution_count": 24,
   "id": "b4d04e1a-953d-42b3-a807-145305f0de07",
   "metadata": {
    "tags": []
   },
   "outputs": [
    {
     "data": {
      "image/png": "[encoded data removed]",
      "text/plain": [
       "<Figure size 800x600 with 1 Axes>"
      ]
     },
     "metadata": {},
     "output_type": "display_data"
    }
   ],
   "source": [
    "plot_cases_yearly(sk_years_list_C50, sk_C50, sk_years_list_C53, sk_C53, range(2006, 2021, 2), \"Slovakia Breast Cancer Cases\")"
   ]
  },
  {
   "cell_type": "markdown",
   "id": "ee854f8a-68dc-40b9-a0a7-5c6863cd7547",
   "metadata": {},
   "source": [
    "**Conclusion**\n",
    "\n",
    "*Bulgaria data is not fully presented. There is a gap in data between 2009 and 2013, as well 2018. It is hard to see any trend or pattern. Unlike Slovakia there are cases of C50 that exceeds C53 in two years - 2015 and 2017. The numbers in those two years are significantly lower than the rest, which may point to a bias. Unfortunately the original data is already agregated and is not compatible for further exploration on this matter.*"
   ]
  },
  {
   "cell_type": "code",
   "execution_count": null,
   "id": "987d262c-718e-40b3-adb3-2ae35ccc76a8",
   "metadata": {},
   "outputs": [],
   "source": []
  },
  {
   "cell_type": "code",
   "execution_count": null,
   "id": "59446f44-661c-4a86-8962-e97eef1f6f59",
   "metadata": {},
   "outputs": [],
   "source": []
  },
  {
   "cell_type": "markdown",
   "id": "67bee371-db5b-4d46-a4b8-e2d7484cb2f8",
   "metadata": {
    "tags": []
   },
   "source": [
    "**Table Winsconsin explorations**"
   ]
  },
  {
   "cell_type": "code",
   "execution_count": 25,
   "id": "eaded45d-14ed-4fa0-b894-586edc637aeb",
   "metadata": {
    "tags": []
   },
   "outputs": [],
   "source": [
    "bc_winsconsin = pd.read_csv(\"data\\wdbc.data\", header = None)"
   ]
  },
  {
   "cell_type": "code",
   "execution_count": 26,
   "id": "3a9b6b0a-70bf-46ee-a9eb-967903120535",
   "metadata": {
    "tags": []
   },
   "outputs": [
    {
     "data": {
      "text/plain": [
       "(569, 32)"
      ]
     },
     "execution_count": 26,
     "metadata": {},
     "output_type": "execute_result"
    }
   ],
   "source": [
    "bc_winsconsin.shape"
   ]
  },
  {
   "cell_type": "code",
   "execution_count": 27,
   "id": "3852212d-b668-4b78-8b4b-12461338f9ad",
   "metadata": {
    "tags": []
   },
   "outputs": [],
   "source": [
    "col_names_winsc = [\"id\", \"diagnosis\", \"radius_mean\", \"texture_mean\", \"perimeter_mean\", \"area_mean\", \"smoothness_mean\", \"compactness_mean\", \"concavity_mean\", \"concave_points_mean\", \"symmetry_mean\", \"fractal_dimension_mean\", \"radius_se\", \"texture_se\", \"perimeter_se\", \"area_se\", \"smoothness_se\", \"compactness_se\", \"concavity_se\", \"concave_points_se\", \"symmetry_se\", \"fractal_dimension_se\", \"radius_worst\", \"texture_worst\", \"perimeter_worst\", \"area_worst\", \"smoothness_worst\", \"compactness_worst\", \"concavity_worst\", \"concave_points_worst\", \"symmetry_worst\", \"fractal_dimension_worst\"]"
   ]
  },
  {
   "cell_type": "code",
   "execution_count": 28,
   "id": "2bca2b97-3735-4bd1-921e-b653be9816e9",
   "metadata": {
    "tags": []
   },
   "outputs": [],
   "source": [
    "bc_winsconsin.columns = col_names_winsc"
   ]
  },
  {
   "cell_type": "code",
   "execution_count": 29,
   "id": "237f723d-f247-44ba-ba12-3c7f0ffcbf6e",
   "metadata": {
    "tags": []
   },
   "outputs": [
    {
     "data": {
      "text/html": [
       "<div>\n",
       "<style scoped>\n",
       "    .dataframe tbody tr th:only-of-type {\n",
       "        vertical-align: middle;\n",
       "    }\n",
       "\n",
       "    .dataframe tbody tr th {\n",
       "        vertical-align: top;\n",
       "    }\n",
       "\n",
       "    .dataframe thead th {\n",
       "        text-align: right;\n",
       "    }\n",
       "</style>\n",
       "<table border=\"1\" class=\"dataframe\">\n",
       "  <thead>\n",
       "    <tr style=\"text-align: right;\">\n",
       "      <th></th>\n",
       "      <th>id</th>\n",
       "      <th>diagnosis</th>\n",
       "      <th>radius_mean</th>\n",
       "      <th>texture_mean</th>\n",
       "      <th>perimeter_mean</th>\n",
       "      <th>area_mean</th>\n",
       "      <th>smoothness_mean</th>\n",
       "      <th>compactness_mean</th>\n",
       "      <th>concavity_mean</th>\n",
       "      <th>concave_points_mean</th>\n",
       "      <th>...</th>\n",
       "      <th>radius_worst</th>\n",
       "      <th>texture_worst</th>\n",
       "      <th>perimeter_worst</th>\n",
       "      <th>area_worst</th>\n",
       "      <th>smoothness_worst</th>\n",
       "      <th>compactness_worst</th>\n",
       "      <th>concavity_worst</th>\n",
       "      <th>concave_points_worst</th>\n",
       "      <th>symmetry_worst</th>\n",
       "      <th>fractal_dimension_worst</th>\n",
       "    </tr>\n",
       "  </thead>\n",
       "  <tbody>\n",
       "    <tr>\n",
       "      <th>0</th>\n",
       "      <td>842302</td>\n",
       "      <td>M</td>\n",
       "      <td>17.99</td>\n",
       "      <td>10.38</td>\n",
       "      <td>122.80</td>\n",
       "      <td>1001.0</td>\n",
       "      <td>0.11840</td>\n",
       "      <td>0.27760</td>\n",
       "      <td>0.3001</td>\n",
       "      <td>0.14710</td>\n",
       "      <td>...</td>\n",
       "      <td>25.38</td>\n",
       "      <td>17.33</td>\n",
       "      <td>184.60</td>\n",
       "      <td>2019.0</td>\n",
       "      <td>0.1622</td>\n",
       "      <td>0.6656</td>\n",
       "      <td>0.7119</td>\n",
       "      <td>0.2654</td>\n",
       "      <td>0.4601</td>\n",
       "      <td>0.11890</td>\n",
       "    </tr>\n",
       "    <tr>\n",
       "      <th>1</th>\n",
       "      <td>842517</td>\n",
       "      <td>M</td>\n",
       "      <td>20.57</td>\n",
       "      <td>17.77</td>\n",
       "      <td>132.90</td>\n",
       "      <td>1326.0</td>\n",
       "      <td>0.08474</td>\n",
       "      <td>0.07864</td>\n",
       "      <td>0.0869</td>\n",
       "      <td>0.07017</td>\n",
       "      <td>...</td>\n",
       "      <td>24.99</td>\n",
       "      <td>23.41</td>\n",
       "      <td>158.80</td>\n",
       "      <td>1956.0</td>\n",
       "      <td>0.1238</td>\n",
       "      <td>0.1866</td>\n",
       "      <td>0.2416</td>\n",
       "      <td>0.1860</td>\n",
       "      <td>0.2750</td>\n",
       "      <td>0.08902</td>\n",
       "    </tr>\n",
       "    <tr>\n",
       "      <th>2</th>\n",
       "      <td>84300903</td>\n",
       "      <td>M</td>\n",
       "      <td>19.69</td>\n",
       "      <td>21.25</td>\n",
       "      <td>130.00</td>\n",
       "      <td>1203.0</td>\n",
       "      <td>0.10960</td>\n",
       "      <td>0.15990</td>\n",
       "      <td>0.1974</td>\n",
       "      <td>0.12790</td>\n",
       "      <td>...</td>\n",
       "      <td>23.57</td>\n",
       "      <td>25.53</td>\n",
       "      <td>152.50</td>\n",
       "      <td>1709.0</td>\n",
       "      <td>0.1444</td>\n",
       "      <td>0.4245</td>\n",
       "      <td>0.4504</td>\n",
       "      <td>0.2430</td>\n",
       "      <td>0.3613</td>\n",
       "      <td>0.08758</td>\n",
       "    </tr>\n",
       "    <tr>\n",
       "      <th>3</th>\n",
       "      <td>84348301</td>\n",
       "      <td>M</td>\n",
       "      <td>11.42</td>\n",
       "      <td>20.38</td>\n",
       "      <td>77.58</td>\n",
       "      <td>386.1</td>\n",
       "      <td>0.14250</td>\n",
       "      <td>0.28390</td>\n",
       "      <td>0.2414</td>\n",
       "      <td>0.10520</td>\n",
       "      <td>...</td>\n",
       "      <td>14.91</td>\n",
       "      <td>26.50</td>\n",
       "      <td>98.87</td>\n",
       "      <td>567.7</td>\n",
       "      <td>0.2098</td>\n",
       "      <td>0.8663</td>\n",
       "      <td>0.6869</td>\n",
       "      <td>0.2575</td>\n",
       "      <td>0.6638</td>\n",
       "      <td>0.17300</td>\n",
       "    </tr>\n",
       "    <tr>\n",
       "      <th>4</th>\n",
       "      <td>84358402</td>\n",
       "      <td>M</td>\n",
       "      <td>20.29</td>\n",
       "      <td>14.34</td>\n",
       "      <td>135.10</td>\n",
       "      <td>1297.0</td>\n",
       "      <td>0.10030</td>\n",
       "      <td>0.13280</td>\n",
       "      <td>0.1980</td>\n",
       "      <td>0.10430</td>\n",
       "      <td>...</td>\n",
       "      <td>22.54</td>\n",
       "      <td>16.67</td>\n",
       "      <td>152.20</td>\n",
       "      <td>1575.0</td>\n",
       "      <td>0.1374</td>\n",
       "      <td>0.2050</td>\n",
       "      <td>0.4000</td>\n",
       "      <td>0.1625</td>\n",
       "      <td>0.2364</td>\n",
       "      <td>0.07678</td>\n",
       "    </tr>\n",
       "  </tbody>\n",
       "</table>\n",
       "<p>5 rows × 32 columns</p>\n",
       "</div>"
      ],
      "text/plain": [
       "         id diagnosis  radius_mean  texture_mean  perimeter_mean  area_mean  \\\n",
       "0    842302         M        17.99         10.38          122.80     1001.0   \n",
       "1    842517         M        20.57         17.77          132.90     1326.0   \n",
       "2  84300903         M        19.69         21.25          130.00     1203.0   \n",
       "3  84348301         M        11.42         20.38           77.58      386.1   \n",
       "4  84358402         M        20.29         14.34          135.10     1297.0   \n",
       "\n",
       "   smoothness_mean  compactness_mean  concavity_mean  concave_points_mean  \\\n",
       "0          0.11840           0.27760          0.3001              0.14710   \n",
       "1          0.08474           0.07864          0.0869              0.07017   \n",
       "2          0.10960           0.15990          0.1974              0.12790   \n",
       "3          0.14250           0.28390          0.2414              0.10520   \n",
       "4          0.10030           0.13280          0.1980              0.10430   \n",
       "\n",
       "   ...  radius_worst  texture_worst  perimeter_worst  area_worst  \\\n",
       "0  ...         25.38          17.33           184.60      2019.0   \n",
       "1  ...         24.99          23.41           158.80      1956.0   \n",
       "2  ...         23.57          25.53           152.50      1709.0   \n",
       "3  ...         14.91          26.50            98.87       567.7   \n",
       "4  ...         22.54          16.67           152.20      1575.0   \n",
       "\n",
       "   smoothness_worst  compactness_worst  concavity_worst  concave_points_worst  \\\n",
       "0            0.1622             0.6656           0.7119                0.2654   \n",
       "1            0.1238             0.1866           0.2416                0.1860   \n",
       "2            0.1444             0.4245           0.4504                0.2430   \n",
       "3            0.2098             0.8663           0.6869                0.2575   \n",
       "4            0.1374             0.2050           0.4000                0.1625   \n",
       "\n",
       "   symmetry_worst  fractal_dimension_worst  \n",
       "0          0.4601                  0.11890  \n",
       "1          0.2750                  0.08902  \n",
       "2          0.3613                  0.08758  \n",
       "3          0.6638                  0.17300  \n",
       "4          0.2364                  0.07678  \n",
       "\n",
       "[5 rows x 32 columns]"
      ]
     },
     "execution_count": 29,
     "metadata": {},
     "output_type": "execute_result"
    }
   ],
   "source": [
    "bc_winsconsin.head()"
   ]
  },
  {
   "cell_type": "code",
   "execution_count": 30,
   "id": "e18fc3fb-18bf-42bc-9975-b438a9ddd19f",
   "metadata": {
    "tags": []
   },
   "outputs": [
    {
     "data": {
      "text/plain": [
       "id                           int64\n",
       "diagnosis                   object\n",
       "radius_mean                float64\n",
       "texture_mean               float64\n",
       "perimeter_mean             float64\n",
       "area_mean                  float64\n",
       "smoothness_mean            float64\n",
       "compactness_mean           float64\n",
       "concavity_mean             float64\n",
       "concave_points_mean        float64\n",
       "symmetry_mean              float64\n",
       "fractal_dimension_mean     float64\n",
       "radius_se                  float64\n",
       "texture_se                 float64\n",
       "perimeter_se               float64\n",
       "area_se                    float64\n",
       "smoothness_se              float64\n",
       "compactness_se             float64\n",
       "concavity_se               float64\n",
       "concave_points_se          float64\n",
       "symmetry_se                float64\n",
       "fractal_dimension_se       float64\n",
       "radius_worst               float64\n",
       "texture_worst              float64\n",
       "perimeter_worst            float64\n",
       "area_worst                 float64\n",
       "smoothness_worst           float64\n",
       "compactness_worst          float64\n",
       "concavity_worst            float64\n",
       "concave_points_worst       float64\n",
       "symmetry_worst             float64\n",
       "fractal_dimension_worst    float64\n",
       "dtype: object"
      ]
     },
     "execution_count": 30,
     "metadata": {},
     "output_type": "execute_result"
    }
   ],
   "source": [
    "bc_winsconsin.dtypes"
   ]
  },
  {
   "cell_type": "code",
   "execution_count": 31,
   "id": "1d2ab550-0d10-4853-8697-d284a1a59c49",
   "metadata": {
    "tags": []
   },
   "outputs": [
    {
     "data": {
      "text/plain": [
       "array(['M', 'B'], dtype=object)"
      ]
     },
     "execution_count": 31,
     "metadata": {},
     "output_type": "execute_result"
    }
   ],
   "source": [
    "bc_winsconsin.diagnosis.unique()"
   ]
  },
  {
   "cell_type": "code",
   "execution_count": null,
   "id": "3ef3f74f-61e0-4e85-ab0a-8326d1826647",
   "metadata": {},
   "outputs": [],
   "source": []
  }
 ],
 "metadata": {
  "kernelspec": {
   "display_name": "Python 3 (ipykernel)",
   "language": "python",
   "name": "python3"
  },
  "language_info": {
   "codemirror_mode": {
    "name": "ipython",
    "version": 3
   },
   "file_extension": ".py",
   "mimetype": "text/x-python",
   "name": "python",
   "nbconvert_exporter": "python",
   "pygments_lexer": "ipython3",
   "version": "3.9.16"
  }
 },
 "nbformat": 4,
 "nbformat_minor": 5
}
